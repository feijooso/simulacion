{
  "cells": [
    {
      "cell_type": "markdown",
      "metadata": {
        "id": "ImJw4aCeSFsb"
      },
      "source": [
        "# Trabajo Práctico 2\n",
        "\n",
        "####Grupo 1:\n",
        "\n",
        "\n",
        "| Nombre  | Padrón |\n",
        "| ------------- | ------------- |\n",
        "| Alvarez Ernesto Severino | 102221  |\n",
        "| Feijóo Sofía  | 101148  |\n",
        "| Milhas Facundo  | 102727 |\n",
        "| Reinaudo Dante  | 102848  |\n",
        "\n"
      ]
    },
    {
      "cell_type": "markdown",
      "metadata": {
        "id": "STBqW7e6SQlc"
      },
      "source": [
        "# Ejercicio 1\n",
        "\n",
        "En este ejercicio retomaremos el trabajo presentado en el TP 1 “Queuing theory application in imaging service analysis for small Earth observation satellites”.\n",
        "Se pide simular los resultados obtenidos sobre la longitud de imágenes en cola esperando ser procesadas en la sección 3.1. “Pure image capture service system” de las siguientes formas:\n",
        "\n",
        "- Utilizando programación tradicional y el generador de número al azar del tp 1\n",
        "- Utilizando Simpy\n",
        "\n",
        "Comparar los resultados obtenidos"
      ]
    },
    {
      "cell_type": "markdown",
      "metadata": {
        "id": "rsDt2ggfVXuT"
      },
      "source": [
        "### Generador de numeros pseudoaleatorios de Mersenne Twister\n"
      ]
    },
    {
      "cell_type": "code",
      "execution_count": null,
      "metadata": {
        "id": "ZBUrEaUFSnDl"
      },
      "outputs": [],
      "source": [
        "# A continuacion agregaremos nuevamente el generador de numeros psuedoaleatorios de Mersenne Twister utilizado en el primer trabajo practico\n",
        "# Lo primero que hay que definir son las constantes, estas tienen que ser numeros especificos que en su conjunto cumplen una serie de propiedades.\n",
        "# Utilizaremos las constantes del MT19937 para esta prueba, que genera numeros pseudo-aleatorios en un rango entre 0 y 2^32 .\n",
        "\n",
        "n = 624\n",
        "m = 397\n",
        "r = 31\n",
        "f = 1812433253\n",
        "a = 0x9908B0DF\n",
        "w = 32\n",
        "u = 11\n",
        "s = 7\n",
        "b = 0x9D2C5680\n",
        "t = 15\n",
        "c = 0xEFC60000\n",
        "l = 18\n",
        "d = 0xFFFFFFFF\n",
        "w_mask = pow(2, w) - 1"
      ]
    },
    {
      "cell_type": "code",
      "execution_count": null,
      "metadata": {
        "id": "u01fYqOMSuik"
      },
      "outputs": [],
      "source": [
        "# En  primer lugar procederemos a importar las librerias a utilizar\n",
        "import sys\n",
        "from matplotlib import pyplot as plt\n",
        "import seaborn as sns; sns.set()\n",
        "import numpy as np"
      ]
    },
    {
      "cell_type": "code",
      "execution_count": null,
      "metadata": {
        "id": "qLl1vnHQTt27"
      },
      "outputs": [],
      "source": [
        "# Generamos la palabra(MT) que se utiliza de semilla para el generador\n",
        "MT = [0 for i in range(n)]\n",
        "index = n + 1\n",
        "lower_mask = (1 << r) - 1\n",
        "upper_mask = (~lower_mask) & w_mask"
      ]
    },
    {
      "cell_type": "code",
      "execution_count": null,
      "metadata": {
        "id": "nUTMUQIaTxCx"
      },
      "outputs": [],
      "source": [
        "# Generamos la semilla o seed y la seteamos\n",
        "def set_seed(seed):\n",
        "  global index\n",
        "  global MT\n",
        "  index = n\n",
        "  MT[0] = seed\n",
        "  for i in range(1, n):\n",
        "    MT[i] = (f * (MT[i - 1] ^ (MT[i - 1] >> (w - 2))) + i) & w_mask\n",
        "\n",
        "set_seed(0)"
      ]
    },
    {
      "cell_type": "code",
      "execution_count": null,
      "metadata": {
        "id": "mU6NY7YmUJKq"
      },
      "outputs": [],
      "source": [
        "# Cada vez que llamamos a la funcion *twist* estamos generando los siguiente n valores de la serie Xi\n",
        "def twist():\n",
        "  global index\n",
        "  global MT\n",
        "  for i in range(n):\n",
        "    x = (MT[i] & upper_mask) | (MT[(i + 1) % n] & lower_mask)\n",
        "    xA = x >> 1\n",
        "    if x % 2 != 0:\n",
        "      xA = xA^a\n",
        "    MT[i] = MT[(i + m) % n]^xA\n",
        "  index = 0\n"
      ]
    },
    {
      "cell_type": "code",
      "execution_count": null,
      "metadata": {
        "colab": {
          "base_uri": "https://localhost:8080/"
        },
        "id": "ao5z2SUHUJWT",
        "outputId": "4e98557c-2288-4fc5-dd39-100dc7525ddd"
      },
      "outputs": [
        {
          "output_type": "execute_result",
          "data": {
            "text/plain": [
              "2357136044"
            ]
          },
          "metadata": {},
          "execution_count": 6
        }
      ],
      "source": [
        "# Por último el generador de numeros aleatorios que utiliza la posicion del indice actual en la palabra MT para generar el número\n",
        "\n",
        "def random_number():\n",
        "  global index\n",
        "  global MT\n",
        "  if index == n: twist()\n",
        "  y = MT[index]\n",
        "  y = y ^ ((y >> u) & d)\n",
        "  y = y ^ ((y << s) & b)\n",
        "  y = y ^ ((y << t) & c)\n",
        "  y = y ^ (y >> l)\n",
        "\n",
        "  index += 1\n",
        "  return y & w_mask\n",
        "\n",
        "\n",
        "random_number()"
      ]
    },
    {
      "cell_type": "code",
      "execution_count": null,
      "metadata": {
        "id": "s2pfwiRaVM1X"
      },
      "outputs": [],
      "source": [
        "# Ademas se adjunta la siguiente funcion para generar numeros alaeatorios entre 0 y 1\n",
        "\n",
        "def generador_01():\n",
        "  return random_number() / (pow(2, w) - 1)"
      ]
    },
    {
      "cell_type": "markdown",
      "metadata": {
        "id": "3URUCT_95kcO"
      },
      "source": [
        "### Performance Modelling of Imaging Service of Earth Observation Satellites\n",
        "\n"
      ]
    },
    {
      "cell_type": "markdown",
      "metadata": {
        "id": "jesuy2wO5zSX"
      },
      "source": [
        "A continuacion se procedera a describir el modelo utilizado para simular el procesamiento de captura de imagenes descriptos en las secciones 2 y 3 del paper.\n",
        "\n",
        "El satelite cuenta con dos colas, una de request recibidas para la caputra de imagenes y otra cola con las imagenes procesadas. La primera tiene una politica de scheduling de FOFS (First Oportunity First Served), en la que los request seran procesados en funcion de la cercania con la ubicacion a fotografiar, mientas que la segunda tiene una politica FCFS (Firs Come First Served) en la que se desencolan las imagenes de acuerdo a las que primero ingresaron en la cola.\n",
        "\n",
        "Para llevar a cabo la simulacion, se modelo que los request arriban con una dstribucion de Poisson, los cuales se van encolando con una politica FCFS, mientras que el tiempo de procesamiento se modela con una distribucion exponencial con media 1/ n * uo, siendo n la cantidad de request en la cola y uo un parametro determinado."
      ]
    },
    {
      "cell_type": "markdown",
      "metadata": {
        "id": "gG740S-oaWAc"
      },
      "source": [
        "### Simulación con programacion tradicional y generador MT"
      ]
    },
    {
      "cell_type": "code",
      "execution_count": null,
      "metadata": {
        "id": "5wGBH_cn7mkP"
      },
      "outputs": [],
      "source": [
        "import math\n",
        "import matplotlib.pyplot as plt\n",
        "import seaborn as sns"
      ]
    },
    {
      "cell_type": "code",
      "execution_count": null,
      "metadata": {
        "id": "PlnUmexkas1z"
      },
      "outputs": [],
      "source": [
        "# En primer lugar realizaremos un generador de numeros pseudo aleatorios con distribucion exponencial a partir de el generador utilizado en el tp1\n",
        "def generador_exponencial(media):\n",
        "    u = generador_01()  # Genera un número aleatorio entre 0 y 1\n",
        "    x = - media * math.log(1 - u)  # Aplica la transformada inversa de la distribución exponencial\n",
        "    return x\n",
        ""
      ]
    },
    {
      "cell_type": "code",
      "execution_count": null,
      "metadata": {
        "id": "5xIl6KOqEHWO"
      },
      "outputs": [],
      "source": [
        "arrival_rate = 2\n",
        "media = 1 / arrival_rate\n",
        "cantidad_arribos = 1000\n",
        "\n",
        "# Genera el vector de tiempos de arribo utilizando la función generar_exponencial()\n",
        "arribos = np.array([generador_exponencial(media) for _ in range(cantidad_arribos)])\n",
        "arribos_ordenados = sorted(arribos)\n",
        "total_arribos = np.arange(0,cantidad_arribos)"
      ]
    },
    {
      "cell_type": "code",
      "execution_count": null,
      "metadata": {
        "colab": {
          "base_uri": "https://localhost:8080/",
          "height": 480
        },
        "id": "BThoj8QuEMkl",
        "outputId": "153e3550-d0da-46d5-f67c-d7b3f63f26fe"
      },
      "outputs": [
        {
          "output_type": "display_data",
          "data": {
            "text/plain": [
              "<Figure size 640x480 with 1 Axes>"
            ],
            "image/png": "[encoded data removed]"
          },
          "metadata": {}
        }
      ],
      "source": [
        "# Grafica el vector de tiempos de arribo\n",
        "plt.plot(arribos_ordenados)\n",
        "plt.title('Tiempos de arribo')\n",
        "plt.xlabel('Total de arribos')\n",
        "plt.ylabel('Tiempo de arribo')\n",
        "plt.show()"
      ]
    },
    {
      "cell_type": "code",
      "execution_count": null,
      "metadata": {
        "id": "UPCwlZ5eYE9w"
      },
      "outputs": [],
      "source": [
        "def generar_request(lam):\n",
        "    return generador_exponencial(1/lam)"
      ]
    },
    {
      "cell_type": "code",
      "execution_count": null,
      "metadata": {
        "id": "Vo1-X62SYZIm"
      },
      "outputs": [],
      "source": [
        "arrival_rate = 2\n",
        "media = 1 / arrival_rate\n",
        "cantidad_arribos = 1000\n",
        "u0 = 0.5\n",
        "\n",
        "# Genera el vector de tiempos de arribo utilizando la función generar_exponencial()\n",
        "arribos = np.array([generar_request(arrival_rate) for _ in range(cantidad_arribos)])\n"
      ]
    },
    {
      "cell_type": "code",
      "execution_count": null,
      "metadata": {
        "id": "jmdU6AahbNRR"
      },
      "outputs": [],
      "source": [
        "def generar_tiempo_arribos(arribos):\n",
        "  tiempo_entre_arribos = []\n",
        "  for idx, x in enumerate(arribos):\n",
        "      if idx != 0:\n",
        "        tiempo_entre_arribos.append(tiempo_entre_arribos[idx-1] + x)\n",
        "      else:\n",
        "        tiempo_entre_arribos.append(x)\n",
        "  return tiempo_entre_arribos"
      ]
    },
    {
      "cell_type": "code",
      "execution_count": null,
      "metadata": {
        "colab": {
          "base_uri": "https://localhost:8080/",
          "height": 480
        },
        "id": "oXRYWO_0YlsP",
        "outputId": "1a2450b0-da52-4cf7-d8e2-f634c906725c"
      },
      "outputs": [
        {
          "output_type": "display_data",
          "data": {
            "text/plain": [
              "<Figure size 640x480 with 1 Axes>"
            ],
            "image/png": "[encoded data removed]"
          },
          "metadata": {}
        }
      ],
      "source": [
        "# Grafica el vector de tiempos de arribo\n",
        "plt.plot(sorted(arribos))\n",
        "plt.title('Tiempos de arribo')\n",
        "plt.xlabel('Total de arribos')\n",
        "plt.ylabel('Tiempo de arribo')\n",
        "plt.show()"
      ]
    },
    {
      "cell_type": "code",
      "execution_count": null,
      "metadata": {
        "id": "3CEkICUFsjdt"
      },
      "outputs": [],
      "source": [
        "def procesar_request(queue_length,u0):\n",
        "  return generador_exponencial(1 / (queue_length * u0))\n"
      ]
    },
    {
      "cell_type": "code",
      "execution_count": null,
      "metadata": {
        "id": "lw-qxeZJxnpm"
      },
      "outputs": [],
      "source": [
        "def longitud_por_tiempo(queue, tiempo):\n",
        "  queue_por_tiempo = []\n",
        "  end = False\n",
        "  cont = 0\n",
        "  while not end and cont < len(queue):\n",
        "    if queue[cont] <= tiempo:\n",
        "      queue_por_tiempo.append(queue[cont])\n",
        "      cont +=1\n",
        "    else :\n",
        "      end = True\n",
        "  return len(queue_por_tiempo)\n"
      ]
    },
    {
      "cell_type": "code",
      "source": [
        "def generar_arribos(arrival_rate, cant_arribos):\n",
        "  cola = []\n",
        "  for _ in range(cant_arribos):\n",
        "    llegada = generar_request(arrival_rate)\n",
        "    cola.append(llegada)\n",
        "  return cola"
      ],
      "metadata": {
        "id": "shPfILZAL5t9"
      },
      "execution_count": null,
      "outputs": []
    },
    {
      "cell_type": "code",
      "execution_count": null,
      "metadata": {
        "id": "NflGo4uXtzSY"
      },
      "outputs": [],
      "source": [
        "def simulacion_tradicional(arrival_rate,u0,cant_arribos):\n",
        "\n",
        "  longitudes = []\n",
        "  procesamiento = []\n",
        "  tiempo = 0\n",
        "  tiempos = []\n",
        "  cola = generar_arribos(arrival_rate,cant_arribos)\n",
        "  tiempo_arribos = generar_tiempo_arribos(cola)\n",
        "\n",
        "  tiempo_arribos_return = tiempo_arribos[:]\n",
        "  cola_return = cola [:]\n",
        "\n",
        "  while (len(cola)) > 0:\n",
        "    request = cola.pop(0)\n",
        "    t_arribo = tiempo_arribos[0]\n",
        "    if tiempo == 0 or t_arribo > tiempo:\n",
        "      tiempo = t_arribo\n",
        "\n",
        "    longitud_actual = longitud_por_tiempo(tiempo_arribos,tiempo)\n",
        "\n",
        "    longitudes.append(longitud_actual)\n",
        "    tiempo_procesamiento = procesar_request(longitud_actual,u0)\n",
        "    procesamiento.append(tiempo_procesamiento)\n",
        "    tiempo_arribos.pop(0)\n",
        "    tiempo += tiempo_procesamiento\n",
        "    tiempos.append(tiempo)\n",
        "\n",
        "\n",
        "  return tiempo,longitudes,cola_return,tiempo_arribos_return,procesamiento,tiempos\n",
        "\n",
        "\n"
      ]
    },
    {
      "cell_type": "code",
      "source": [
        "def mean_queue_length(lengths):\n",
        "  return sum(lengths) / len(lengths)"
      ],
      "metadata": {
        "id": "ll_z1nI_0A4k"
      },
      "execution_count": null,
      "outputs": []
    },
    {
      "cell_type": "code",
      "source": [
        "def probability(arrival_rate,n , u0):\n",
        "  return arrival_rate / (n * u0)"
      ],
      "metadata": {
        "id": "GyGRPRWG0qZ1"
      },
      "execution_count": null,
      "outputs": []
    },
    {
      "cell_type": "code",
      "source": [
        "def queue_length_probability(arrival_rate,n,u0,j):\n",
        "  p = probability(arrival_rate,n,u0)\n",
        "  return (1 - p) * (p ** j)"
      ],
      "metadata": {
        "id": "eLE8lj9S18Rc"
      },
      "execution_count": null,
      "outputs": []
    },
    {
      "cell_type": "code",
      "source": [
        "def generate_graphic(arrival_rate,n,u0):\n",
        "  lista = []\n",
        "  for i in range(1,20):\n",
        "    lista.append(queue_length_probability(arrival_rate,n,u0,i))\n",
        "  return lista"
      ],
      "metadata": {
        "id": "L3eW2S6q2PtO"
      },
      "execution_count": null,
      "outputs": []
    },
    {
      "cell_type": "code",
      "source": [
        "def mean_times(times):\n",
        "  mean = []\n",
        "  for idx,i in enumerate(times):\n",
        "    if idx == 0:\n",
        "      mean.append(i)\n",
        "    else:\n",
        "      mean.append(i - times[idx-1])\n",
        "  return mean"
      ],
      "metadata": {
        "id": "eTuTAkSqS6H8"
      },
      "execution_count": null,
      "outputs": []
    },
    {
      "cell_type": "code",
      "source": [
        "def queue_mean_length_time(longitudes,tiempo,tiempos):\n",
        "  mean_time = mean_times(tiempos)\n",
        "  mean_queue_length = np.zeros(40)\n",
        "  for idx,i in enumerate(longitudes):\n",
        "    mean_queue_length[i] += mean_time[idx]\n",
        "  for idx,i in enumerate(mean_queue_length):\n",
        "    mean_queue_length[idx] = i / tiempo\n",
        "  return mean_queue_length\n"
      ],
      "metadata": {
        "id": "OS_xChnSNzDF"
      },
      "execution_count": null,
      "outputs": []
    },
    {
      "cell_type": "code",
      "execution_count": null,
      "metadata": {
        "id": "nXrto6sCvmxt"
      },
      "outputs": [],
      "source": [
        "arrival_rate = 2\n",
        "u0 = 0.5\n",
        "cant_arribos = 1000\n",
        "tiempo,longitudes,cola,arribos,procesamiento,tiempos = simulacion_tradicional(arrival_rate,u0,cant_arribos)\n",
        "n = mean_queue_length(longitudes)"
      ]
    },
    {
      "cell_type": "code",
      "source": [
        "plt.plot(tiempos,longitudes)\n",
        "plt.title('Queue length in time')\n",
        "plt.xlabel('Tiempo')\n",
        "plt.ylabel('Time')\n",
        "plt.show()"
      ],
      "metadata": {
        "colab": {
          "base_uri": "https://localhost:8080/",
          "height": 480
        },
        "id": "hEj0QomUUsjc",
        "outputId": "6abdaeb0-7322-4aff-e237-0e48fe195fc5"
      },
      "execution_count": null,
      "outputs": [
        {
          "output_type": "display_data",
          "data": {
            "text/plain": [
              "<Figure size 640x480 with 1 Axes>"
            ],
            "image/png": "[encoded data removed]"
          },
          "metadata": {}
        }
      ]
    },
    {
      "cell_type": "code",
      "source": [
        "mean_time  = queue_mean_length_time(longitudes,tiempo,tiempos)\n",
        "plt.plot(mean_time,color=\"orange\")\n",
        "plt.title('Queue length probability for image capture queue using traditional programing')\n",
        "plt.xlabel('Queue length')\n",
        "plt.ylabel('Probability')\n",
        "plt.show()"
      ],
      "metadata": {
        "colab": {
          "base_uri": "https://localhost:8080/",
          "height": 480
        },
        "id": "GoIAcPZLPh2E",
        "outputId": "557f45f0-d7ca-4eac-c407-b13d307475e5"
      },
      "execution_count": null,
      "outputs": [
        {
          "output_type": "display_data",
          "data": {
            "text/plain": [
              "<Figure size 640x480 with 1 Axes>"
            ],
            "image/png": "[encoded data removed]"
          },
          "metadata": {}
        }
      ]
    },
    {
      "cell_type": "code",
      "source": [
        "# Grafica el vector de tiempos de arribo\n",
        "n = mean_queue_length(longitudes)\n",
        "lista = generate_graphic(arrival_rate,n,u0)\n",
        "plt.plot(lista)\n",
        "plt.title('P = (1 - p) * p **j')\n",
        "plt.xlabel('Queue length')\n",
        "plt.ylabel('Probability')\n",
        "plt.show()"
      ],
      "metadata": {
        "colab": {
          "base_uri": "https://localhost:8080/",
          "height": 480
        },
        "id": "teWBboFK2eXE",
        "outputId": "9258e79e-0632-4fe0-a325-fc20494b091d"
      },
      "execution_count": null,
      "outputs": [
        {
          "output_type": "display_data",
          "data": {
            "text/plain": [
              "<Figure size 640x480 with 1 Axes>"
            ],
            "image/png": "[encoded data removed]"
          },
          "metadata": {}
        }
      ]
    },
    {
      "cell_type": "markdown",
      "metadata": {
        "id": "r8SND-QnatN7"
      },
      "source": [
        "### Simualción con Simpy"
      ]
    },
    {
      "cell_type": "code",
      "source": [
        "pip install simpy"
      ],
      "metadata": {
        "colab": {
          "base_uri": "https://localhost:8080/"
        },
        "id": "H7FSG6UWOJoJ",
        "outputId": "b89888d4-77f6-48c9-b47a-c7237a7c1e4c"
      },
      "execution_count": null,
      "outputs": [
        {
          "output_type": "stream",
          "name": "stdout",
          "text": [
            "Looking in indexes: https://pypi.org/simple, https://us-python.pkg.dev/colab-wheels/public/simple/\n",
            "Collecting simpy\n",
            "  Downloading simpy-4.0.1-py2.py3-none-any.whl (29 kB)\n",
            "Installing collected packages: simpy\n",
            "Successfully installed simpy-4.0.1\n"
          ]
        }
      ]
    },
    {
      "cell_type": "code",
      "source": [
        "import simpy\n",
        "import random"
      ],
      "metadata": {
        "id": "rI-Soe4xjHX9"
      },
      "execution_count": null,
      "outputs": []
    },
    {
      "cell_type": "code",
      "source": [
        "class Servidor:\n",
        "    def __init__(self, env, u0):\n",
        "        self.env = env\n",
        "        self.servidor = simpy.Resource(env, capacity=1)\n",
        "        self.u0 = u0\n",
        "\n",
        "    def procesar_solicitud(self, solicitud,lengths,times):\n",
        "        lengths.append(len(self.servidor.queue) + 1)\n",
        "        tiempo_procesamiento = random.expovariate(self.u0 * (len(self.servidor.queue) + 1))\n",
        "        yield self.env.timeout(tiempo_procesamiento)\n",
        "        times.append(self.env.now)"
      ],
      "metadata": {
        "id": "3eM1NUv0gwkz"
      },
      "execution_count": null,
      "outputs": []
    },
    {
      "cell_type": "code",
      "source": [
        "def llegada_solicitudes(env, servidor,cant_request,lam,lengths,times):\n",
        "    for i in range(cant_request):\n",
        "        solicitud = i + 1\n",
        "        yield env.timeout(random.expovariate(lam))\n",
        "        env.process(atender_solicitud(env, servidor, solicitud,lengths,times))\n"
      ],
      "metadata": {
        "id": "BYUipHp2h65B"
      },
      "execution_count": null,
      "outputs": []
    },
    {
      "cell_type": "code",
      "source": [
        "def atender_solicitud(env, servidor, solicitud,lengths,times):\n",
        "    with servidor.servidor.request() as req:\n",
        "        yield req\n",
        "        yield env.process(servidor.procesar_solicitud(solicitud,lengths,times))"
      ],
      "metadata": {
        "id": "DfnpDD5miWgT"
      },
      "execution_count": null,
      "outputs": []
    },
    {
      "cell_type": "code",
      "source": [
        "longitudes = []\n",
        "tiempos = []\n",
        "\n",
        "arrival_rate = 2\n",
        "u0 = 0.5\n",
        "cant_request = 1000\n",
        "\n",
        "env = simpy.Environment()\n",
        "servidor = Servidor(env, u0)\n",
        "env.process(llegada_solicitudes(env, servidor,cant_request,arrival_rate,longitudes,tiempos))\n",
        "env.run()"
      ],
      "metadata": {
        "id": "fyOw3e0Tg0r_"
      },
      "execution_count": null,
      "outputs": []
    },
    {
      "cell_type": "code",
      "source": [
        "# Grafica el vector de tiempos de arribo\n",
        "n = mean_queue_length(longitudes)\n",
        "lista = generate_graphic(arrival_rate,n,u0)\n",
        "plt.plot(lista)\n",
        "plt.title('Probability of n requests on queue')\n",
        "plt.xlabel('Queue length')\n",
        "plt.ylabel('Probability')\n",
        "plt.show()"
      ],
      "metadata": {
        "colab": {
          "base_uri": "https://localhost:8080/",
          "height": 480
        },
        "id": "vwbRTXLBjPd_",
        "outputId": "34789421-8a4f-494f-eac5-376625c7bb68"
      },
      "execution_count": null,
      "outputs": [
        {
          "output_type": "display_data",
          "data": {
            "text/plain": [
              "<Figure size 640x480 with 1 Axes>"
            ],
            "image/png": "[encoded data removed]"
          },
          "metadata": {}
        }
      ]
    },
    {
      "cell_type": "code",
      "source": [
        "mean_time  = queue_mean_length_time(longitudes,tiempos[-1],tiempos)\n",
        "plt.plot(mean_time,color=\"orange\")\n",
        "plt.title('Queue length probability for image capture queue using simpy')\n",
        "plt.xlabel('Queue length')\n",
        "plt.ylabel('Probability')\n",
        "plt.show()"
      ],
      "metadata": {
        "id": "a2ZlzVkvrX4H",
        "colab": {
          "base_uri": "https://localhost:8080/",
          "height": 480
        },
        "outputId": "aebfb58a-429e-4369-daf6-2b51c2fa9a04"
      },
      "execution_count": null,
      "outputs": [
        {
          "output_type": "display_data",
          "data": {
            "text/plain": [
              "<Figure size 640x480 with 1 Axes>"
            ],
            "image/png": "[encoded data removed]"
          },
          "metadata": {}
        }
      ]
    },
    {
      "cell_type": "markdown",
      "metadata": {
        "id": "1ZBBxbtrfO60"
      },
      "source": [
        "# Ejercicio 2"
      ]
    },
    {
      "cell_type": "markdown",
      "metadata": {
        "id": "nvMT5AoCfUVF"
      },
      "source": [
        "Solicitudes arriban a un centro de procesamiento siguiendo un proceso Poisson con una frecuencia media de 10 por minuto. Son puestas en un buffer siguiendo una política FIFO, para ser procesadas por una de las dos máquinas disponibles.\n",
        "\n",
        "Las 2 máquinas son iguales, y trabajan en paralelo. Cada una sólo puede procesar una solicitud por vez. El tiempo de procesamiento sigue una distribución exponencial con media de 10 segundos por solicitud.\n",
        "Se pide:\n",
        "- Factor de ocupación del sistema.\n",
        "- Cantidad media de solicitudes en el buffer\n",
        "- Cantidad media de solicitudes en el sistema\n",
        "- Tiempo medio que las solicitudes están en el buffer\n",
        "- Tiempo medio de solicitudes en el sistema\n",
        "- Determinar el tamaña del buffer para que la probabilidad de que haya lugar para recibir solicitudes sea\n",
        "como mucho 3%.\n",
        "- Evaluar la posibilidad de reemplazar las dos máquinas por una sola que procesa todos las solicitudes en\n",
        "un tiempo fijo de 5 segundos. Si el costo de tener solicitudes en el buffer es 0,2 USD/minuto y el costo\n",
        "de modificar la máquina es 2000 USD, Cuánto tiempo tomará amortizar el inversión?\n",
        "\n",
        "Simular utilizando Simpy o programación tradicional a elección."
      ]
    },
    {
      "cell_type": "markdown",
      "metadata": {
        "id": "BcSV8iDKwP_9"
      },
      "source": [
        "###Distribuciones"
      ]
    },
    {
      "cell_type": "markdown",
      "metadata": {
        "id": "myzQVov7zt9V"
      },
      "source": [
        "####Proceso de Poisson\n",
        "Se trata de un proceso estocástico que describe eventos aleatorios que ocurren a lo largo del tiempo de manera independiente y a una tasa constante promedio, y sirve para modelar arribo de eventos, y en este caso particular, arribos de requests a un sistema.\n",
        "\n",
        "La fórmula para el proceso de Poisson se expresa de la siguiente manera:\n",
        "\n",
        "Poi(λ)=P(λ,x) = ((λ)^x * e^(-λ)) / x!\n",
        "\n",
        "Donde:\n",
        "*  P es la probabilidad de que ocurran exactamente \"x\" cantidad de eventos en un intervalo de tiempo.\n",
        "*  λ es la la frecuencia de los arribos (en nuestro caso 10/min), es decir, la tasa promedio de eventos por unidad de tiempo.\n",
        "\n",
        "\n"
      ]
    },
    {
      "cell_type": "markdown",
      "metadata": {
        "id": "v5SVu7B_zxAJ"
      },
      "source": [
        "####Distribución exponencial\n",
        "Esta distribución de probabilidad continua se utiliza para modelar el tiempo que transcurre entre eventos en un proceso de Poisson, es decir, se usa para modelar el tiempo entre arribos. Esta distribución se caracteriza por tener una tasa de llegada constante y la propiedad de falta de memoria.\n",
        "\n",
        "La fórmula de la distribución exponencial se expresa de la siguiente manera:\n",
        "\n",
        "ε(x) = λ * e^(-λx)\n",
        "\n",
        "Donde:\n",
        "*   ε(x) es la función de densidad de probabilidad que representa la probabilidad de que el tiempo transcurrido entre eventos sea \"x\".\n",
        "*   λ es el tiempo promedio entre arribos, en nuestro caso, el tiempo promedio que le toma a cada máquina procesar una solicitud,  10 segundos.\n",
        "\n"
      ]
    },
    {
      "cell_type": "markdown",
      "metadata": {
        "id": "1GRCDDm3JRRz"
      },
      "source": [
        "###Métricas"
      ]
    },
    {
      "cell_type": "markdown",
      "metadata": {
        "id": "2K9_5-Ra7w3I"
      },
      "source": [
        "####Factor de ocupación del sistema\n",
        "Es una medida de la utilización promedio de las máquinas o recursos disponibles en el sistema. En este caso, se refiere a la proporción promedio del tiempo en el que las máquinas están ocupadas procesando solicitudes.\n",
        "\n",
        "En la simulación, el factor de ocupación del sistema se calcula dividiendo la suma de los tiempos de las solicitudes en el sistema entre el tiempo total de simulación multiplicado por el número de máquinas disponibles. La fórmula sería:\n",
        "\n",
        "Factor de ocupación del sistema = (suma de tiempos de solicitudes en el sistema) / (tiempo total de simulación * número de máquinas)\n",
        "\n",
        "El resultado del cálculo del factor de ocupación del sistema es un valor entre 0 y 1. Un factor de ocupación cercano a 1 indica que las máquinas están muy ocupadas, mientras que un factor de ocupación cercano a 0 indica que las máquinas están subutilizadas."
      ]
    },
    {
      "cell_type": "markdown",
      "metadata": {
        "id": "9kjS0P6xLYMw"
      },
      "source": [
        "\n",
        "\n",
        "  \n",
        "\n"
      ]
    },
    {
      "cell_type": "markdown",
      "metadata": {
        "id": "VTcuCjPA77Dt"
      },
      "source": [
        "####Cantidad media de solicitudes\n",
        "La cantidad media de solicitudes se refiere al promedio de solicitudes que se encuentran esperando en un determinado momento. En otras palabras, es la cantidad promedio de solicitudes que aún no han sido procesadas y están esperando su turno.\n",
        "\n",
        "*   En el buffer:\n",
        "  En la simulación, la cantidad media de solicitudes en el buffer se calcula promediando las cantidades de solicitudes en el buffer en cada momento dado. Es decir, se almacenan cantidades de solicitudes en el buffer en instantes dados y se promedian.\n",
        "\n",
        "*   En el sistema:\n",
        "\n",
        "  Es la suma de la cantidad media de solicitudes en el buffer y la cantidad media de solicitudes siendo procesadas por las máquinas.\n",
        "\n",
        "  En la simulación, se almacenan cantidades totales de solicitudes tanto en el buffer como en las maquinas en instantes dados y se promedian.\n",
        "\n",
        "\n",
        "El resultado del cálculo de la cantidad media de solicitudes es un número real que representa la cantidad promedio de solicitudes en espera en cualquier momento dado.\n",
        "  \n",
        "\n"
      ]
    },
    {
      "cell_type": "markdown",
      "metadata": {
        "id": "XMGO_uf17-tK"
      },
      "source": [
        "####Tiempo medio de solicitudes\n",
        "El tiempo medio de solicitudes se refiere a la cantidad promedio de tiempo que una solicitud pasa antes de ser procesada. Es una medida del tiempo de espera promedio.\n",
        "\n",
        "\n",
        "*   En el buffer:\n",
        "  En la simulación, el tiempo medio de solicitudes en el buffer se calcula sumando todos los tiempos que las solicitudes pasan en el buffer y dividiéndolo entre la cantidad total de solicitudes que pasaron por el buffer. La fórmula sería:\n",
        "\n",
        "  Tiempo medio de solicitudes en el buffer = (suma de tiempos de solicitudes en el buffer) / cantidad de solicitudes en el buffer\n",
        "\n",
        "*   En el sistema:\n",
        "  Se calcula sumando todos los tiempos que las solicitudes pasan en el sistema (en el buffer y siendo procesadas) y dividiéndolo entre la cantidad total de solicitudes que pasaron por el sistema. La fórmula sería:\n",
        "\n",
        "  Tiempo medio de solicitudes en el sistema = (suma de tiempos de solicitudes en el sistema) / cantidad de solicitudes en el sistema\n",
        "\n",
        "El resultado del cálculo del tiempo medio de solicitudes es un número real que representa la cantidad promedio de tiempo que las solicitudes esperan antes de ser procesadas.\n",
        "\n"
      ]
    },
    {
      "cell_type": "markdown",
      "metadata": {
        "id": "nnYKWBqKMCqa"
      },
      "source": [
        "####Tamaño del buffer\n",
        "Se pide determinar el tamaña del buffer para que la probabilidad de que haya lugar para recibir solicitudes sea\n",
        "como mucho 3%:\n",
        "\n",
        "Debemos considerar la distribución de llegada de las solicitudes y la capacidad máxima del buffer: La llegada de solicitudes sigue un proceso de Poisson con una frecuencia media de 10 por minuto.\n",
        "\n",
        "La probabilidad de que haya lugar para recibir solicitudes en el buffer se puede calcular utilizando la distribución de Poisson acumulativa. La probabilidad de que el número de solicitudes que lleguen en un intervalo de tiempo sea menor o igual que la capacidad del buffer (número de lugares disponibles) nos dará la probabilidad deseada.\n",
        "\n",
        "Aquí está el cálculo correspondiente:"
      ]
    },
    {
      "cell_type": "code",
      "source": [
        "import math\n",
        "\n",
        "probabilidad_lugar = 0.03  # Probabilidad máxima de que haya lugar para recibir solicitudes\n",
        "frecuencia_media = 10  # Frecuencia media de llegada de solicitudes por minuto\n",
        "\n",
        "tamano_buffer = 0\n",
        "probabilidad_acumulada = 0\n",
        "\n",
        "while probabilidad_acumulada < probabilidad_lugar:\n",
        "    tamano_buffer += 1\n",
        "    probabilidad_acumulada = sum([math.exp(-frecuencia_media) * (frecuencia_media ** k) / math.factorial(k) for k in range(tamano_buffer)])\n",
        "    print(probabilidad_acumulada)\n",
        "\n",
        "print(\"Tamaño del buffer para una probabilidad máxima del 3%:\", tamano_buffer)\n"
      ],
      "metadata": {
        "colab": {
          "base_uri": "https://localhost:8080/"
        },
        "id": "sb8sw84daKos",
        "outputId": "e37ecfff-4ebd-4c41-cb56-5470be7d59d7"
      },
      "execution_count": null,
      "outputs": [
        {
          "output_type": "stream",
          "name": "stdout",
          "text": [
            "4.5399929762484854e-05\n",
            "0.0004993992273873334\n",
            "0.0027693957155115762\n",
            "0.010336050675925718\n",
            "0.029252688076961072\n",
            "0.06708596287903178\n",
            "Tamaño del buffer para una probabilidad máxima del 3%: 6\n"
          ]
        }
      ]
    },
    {
      "cell_type": "markdown",
      "metadata": {
        "id": "2Xt_scxcMYx-"
      },
      "source": [
        "###Simulación con Sympy\n",
        "\n",
        "* Componentes Activos: son los que \"llegan, usan algunos recursos y se van\". En nuestro caso serán las **solicitudes** (interactúan con el ambiente  y con los otros componentes mediante eventos).\n",
        "\n",
        "* Componentes pasivos o recursos: los que serán \"usados por los activos\". En nuestro caso serán el buffer y las máquinas.\n",
        "\n",
        "\n"
      ]
    },
    {
      "cell_type": "code",
      "source": [
        "!pip install -U simpy"
      ],
      "metadata": {
        "colab": {
          "base_uri": "https://localhost:8080/"
        },
        "id": "0LvvMTrVD_Le",
        "outputId": "67e98d7e-b431-4ab7-8fff-2305d58d02dd"
      },
      "execution_count": null,
      "outputs": [
        {
          "output_type": "stream",
          "name": "stdout",
          "text": [
            "Looking in indexes: https://pypi.org/simple, https://us-python.pkg.dev/colab-wheels/public/simple/\n",
            "Requirement already satisfied: simpy in /usr/local/lib/python3.10/dist-packages (4.0.1)\n"
          ]
        }
      ]
    },
    {
      "cell_type": "code",
      "source": [],
      "metadata": {
        "id": "ViPHYcAS7Y1i"
      },
      "execution_count": null,
      "outputs": []
    },
    {
      "cell_type": "code",
      "source": [
        "import simpy\n",
        "import random\n",
        "\n",
        "# Parámetros de la simulación\n",
        "tiempo_simulacion = 1000  # Tiempo total de simulación en minutos\n",
        "frecuencia_media = 10  # Frecuencia media de llegada de solicitudes por minuto\n",
        "tiempo_procesamiento_medio = 10  # Tiempo medio de procesamiento en segundos\n",
        "\n",
        "class Sistema:\n",
        "    def __init__(self, env, num_maquinas):\n",
        "        self.env = env\n",
        "        self.buffer = simpy.Store(env)\n",
        "        self.maquinas = simpy.Resource(env, num_maquinas)\n",
        "\n",
        "        self.tiempo_llegada_buffer = 0\n",
        "        self.tiempo_salida_buffer = 0\n",
        "        self.tiempos_salida_sistema = 0\n",
        "\n",
        "        self.tiempos_en_buffer = []\n",
        "        self.tiempos_en_sistema = []\n",
        "        self.tiempo_total_en_sistema = 0\n",
        "\n",
        "        self.  = []\n",
        "        self.solicitudes_en_sistema = []\n",
        "\n",
        "        self.cantidad_en_buffer_momento_dado = []\n",
        "        self.cantidad_en_sistema_momento_dado = []\n",
        "\n",
        "    def procesar_solicitud(self, solicitud):\n",
        "        yield self.buffer.put(solicitud)\n",
        "\n",
        "\n",
        "        with self.maquinas.request() as maquina:\n",
        "            yield maquina\n",
        "            self.tiempo_salida_buffer = self.env.now\n",
        "            tiempo_en_buffer = self.tiempo_salida_buffer - self.tiempo_llegada_buffer\n",
        "            self.tiempos_en_buffer.append(tiempo_en_buffer)\n",
        "\n",
        "            self.cantidad_en_buffer_momento_dado.append(len(self.solicitudes_en_buffer))\n",
        "            self.solicitudes_en_buffer.remove(solicitud)\n",
        "            yield self.env.timeout(random.expovariate(1 / tiempo_procesamiento_medio))\n",
        "\n",
        "        self.tiempo_salida_sistema = self.env.now\n",
        "        tiempo_en_sistema = self.tiempo_salida_sistema - self.tiempo_llegada_buffer\n",
        "        self.tiempos_en_sistema.append(tiempo_en_sistema)\n",
        "        self.tiempo_total_en_sistema += tiempo_en_sistema\n",
        "        self.cantidad_en_sistema_momento_dado.append(len(self.solicitudes_en_sistema))\n",
        "        self.solicitudes_en_sistema.remove(solicitud)\n",
        "\n",
        "        print(\"Solicitud procesada:\", solicitud, \"tiempo:\", self.env.now)\n",
        "\n",
        "    def llegada_solicitudes(self):\n",
        "        contador = 0\n",
        "        while True:\n",
        "            self.tiempo_llegada_buffer = self.env.now\n",
        "            yield self.env.timeout(random.expovariate(1 / frecuencia_media))\n",
        "            contador += 1\n",
        "            solicitud = \"Solicitud %d\" % contador\n",
        "            print(\"Nueva solicitud:\", solicitud, \"tiempo:\", self.env.now)\n",
        "            self.solicitudes_en_buffer.append(solicitud)\n",
        "            self.solicitudes_en_sistema.append(solicitud)\n",
        "            self.env.process(self.procesar_solicitud(solicitud))\n",
        "\n",
        "    def calcular_metricas(self):\n",
        "\n",
        "        cantidad_solicitudes_buffer = sum(self.cantidad_en_buffer_momento_dado)/len(self.cantidad_en_buffer_momento_dado)\n",
        "        cantidad_solicitudes_sistema = sum(self.cantidad_en_sistema_momento_dado)/len(self.cantidad_en_sistema_momento_dado)\n",
        "        factor_ocupacion = self.tiempo_total_en_sistema / (self.env.now * 2)\n",
        "        tiempo_medio_en_buffer = sum(self.tiempos_en_buffer)/len(self.tiempos_en_buffer)\n",
        "        tiempo_medio_en_sistema =sum(self.tiempos_en_sistema)/len(self.tiempos_en_sistema)\n",
        "\n",
        "        print(\"Factor de ocupación del sistema:\", factor_ocupacion)\n",
        "        print(\"Cantidad media de solicitudes en el buffer:\", cantidad_solicitudes_buffer)\n",
        "        print(\"Cantidad media de solicitudes en el sistema:\", cantidad_solicitudes_sistema)\n",
        "        print(\"Tiempo medio que las solicitudes están en el buffer:\", tiempo_medio_en_buffer)\n",
        "        print(\"Tiempo medio de solicitudes en el sistema:\", tiempo_medio_en_sistema)\n",
        "\n",
        "def simulacion():\n",
        "    env = simpy.Environment()\n",
        "\n",
        "    sistema = Sistema(env, num_maquinas=2)\n",
        "\n",
        "    env.process(sistema.llegada_solicitudes())\n",
        "\n",
        "    env.run(until=tiempo_simulacion)\n",
        "\n",
        "    sistema.calcular_metricas()\n",
        "\n",
        "simulacion()\n"
      ],
      "metadata": {
        "id": "PXTkvVyjIR84",
        "colab": {
          "base_uri": "https://localhost:8080/"
        },
        "outputId": "68c505ee-c540-435f-81e5-8fb6aa5e4f39"
      },
      "execution_count": null,
      "outputs": [
        {
          "output_type": "stream",
          "name": "stdout",
          "text": [
            "Nueva solicitud: Solicitud 1 tiempo: 9.38664265912891\n",
            "Nueva solicitud: Solicitud 2 tiempo: 10.074533347037699\n",
            "Solicitud procesada: Solicitud 1 tiempo: 11.972472874738191\n",
            "Solicitud procesada: Solicitud 2 tiempo: 12.797627521513245\n",
            "Nueva solicitud: Solicitud 3 tiempo: 25.4847472734658\n",
            "Nueva solicitud: Solicitud 4 tiempo: 32.2829763459553\n",
            "Nueva solicitud: Solicitud 5 tiempo: 33.20576610772809\n",
            "Solicitud procesada: Solicitud 3 tiempo: 41.68158225328125\n",
            "Solicitud procesada: Solicitud 5 tiempo: 46.603464429920734\n",
            "Solicitud procesada: Solicitud 4 tiempo: 50.638459386395645\n",
            "Nueva solicitud: Solicitud 6 tiempo: 69.46307032482949\n",
            "Solicitud procesada: Solicitud 6 tiempo: 99.12741742556305\n",
            "Nueva solicitud: Solicitud 7 tiempo: 104.39762586714454\n",
            "Nueva solicitud: Solicitud 8 tiempo: 105.98388693406298\n",
            "Solicitud procesada: Solicitud 7 tiempo: 109.04546690117327\n",
            "Solicitud procesada: Solicitud 8 tiempo: 110.13066158711658\n",
            "Nueva solicitud: Solicitud 9 tiempo: 114.8089691604132\n",
            "Solicitud procesada: Solicitud 9 tiempo: 127.19118913022265\n",
            "Nueva solicitud: Solicitud 10 tiempo: 137.72936707955182\n",
            "Solicitud procesada: Solicitud 10 tiempo: 140.08242914667824\n",
            "Nueva solicitud: Solicitud 11 tiempo: 143.45105468274159\n",
            "Nueva solicitud: Solicitud 12 tiempo: 156.4973076600649\n",
            "Nueva solicitud: Solicitud 13 tiempo: 157.18343619274577\n",
            "Nueva solicitud: Solicitud 14 tiempo: 162.12239834153442\n",
            "Nueva solicitud: Solicitud 15 tiempo: 164.3169423254152\n",
            "Nueva solicitud: Solicitud 16 tiempo: 171.2831031727343\n",
            "Nueva solicitud: Solicitud 17 tiempo: 172.16616723773978\n",
            "Solicitud procesada: Solicitud 12 tiempo: 173.9784043511504\n",
            "Solicitud procesada: Solicitud 13 tiempo: 175.47004932709038\n",
            "Nueva solicitud: Solicitud 18 tiempo: 175.7533947905372\n",
            "Solicitud procesada: Solicitud 11 tiempo: 178.90710360295196\n",
            "Solicitud procesada: Solicitud 14 tiempo: 183.6269052333753\n",
            "Nueva solicitud: Solicitud 19 tiempo: 183.65525769230018\n",
            "Nueva solicitud: Solicitud 20 tiempo: 194.75317873062832\n",
            "Solicitud procesada: Solicitud 16 tiempo: 198.59271264036602\n",
            "Solicitud procesada: Solicitud 17 tiempo: 200.18284584251924\n",
            "Solicitud procesada: Solicitud 15 tiempo: 213.32479230553162\n",
            "Solicitud procesada: Solicitud 18 tiempo: 216.87199343943377\n",
            "Solicitud procesada: Solicitud 19 tiempo: 218.72867022663652\n",
            "Nueva solicitud: Solicitud 21 tiempo: 220.5903654268623\n",
            "Nueva solicitud: Solicitud 22 tiempo: 228.3689253589632\n",
            "Nueva solicitud: Solicitud 23 tiempo: 230.4512179430531\n",
            "Solicitud procesada: Solicitud 21 tiempo: 233.86703213069518\n",
            "Nueva solicitud: Solicitud 24 tiempo: 235.64544144378192\n",
            "Nueva solicitud: Solicitud 25 tiempo: 235.90873883420073\n",
            "Nueva solicitud: Solicitud 26 tiempo: 237.4893096645784\n",
            "Solicitud procesada: Solicitud 22 tiempo: 244.2639179296697\n",
            "Nueva solicitud: Solicitud 27 tiempo: 245.07946550680313\n",
            "Solicitud procesada: Solicitud 23 tiempo: 248.74438394159506\n",
            "Nueva solicitud: Solicitud 28 tiempo: 249.88106396856827\n",
            "Solicitud procesada: Solicitud 24 tiempo: 250.50507244751157\n",
            "Solicitud procesada: Solicitud 20 tiempo: 251.4645085417038\n",
            "Solicitud procesada: Solicitud 26 tiempo: 252.62114557377768\n",
            "Solicitud procesada: Solicitud 27 tiempo: 253.19288466385396\n",
            "Solicitud procesada: Solicitud 25 tiempo: 254.7444987510498\n",
            "Nueva solicitud: Solicitud 29 tiempo: 261.2127715320488\n",
            "Nueva solicitud: Solicitud 30 tiempo: 262.1085472921996\n",
            "Nueva solicitud: Solicitud 31 tiempo: 276.9035787929164\n",
            "Nueva solicitud: Solicitud 32 tiempo: 288.47875369266654\n",
            "Solicitud procesada: Solicitud 28 tiempo: 288.7943479241859\n",
            "Solicitud procesada: Solicitud 30 tiempo: 293.8328983350369\n",
            "Solicitud procesada: Solicitud 31 tiempo: 294.37739518163664\n",
            "Solicitud procesada: Solicitud 32 tiempo: 299.5077740305509\n",
            "Nueva solicitud: Solicitud 33 tiempo: 304.3569335563902\n",
            "Solicitud procesada: Solicitud 29 tiempo: 314.24069244738547\n",
            "Solicitud procesada: Solicitud 33 tiempo: 318.21286390097663\n",
            "Nueva solicitud: Solicitud 34 tiempo: 342.094780072063\n",
            "Solicitud procesada: Solicitud 34 tiempo: 343.34118110541465\n",
            "Nueva solicitud: Solicitud 35 tiempo: 359.81964288276936\n",
            "Solicitud procesada: Solicitud 35 tiempo: 362.3403434809638\n",
            "Nueva solicitud: Solicitud 36 tiempo: 367.0538520119155\n",
            "Solicitud procesada: Solicitud 36 tiempo: 367.77871250662326\n",
            "Nueva solicitud: Solicitud 37 tiempo: 377.72260667159884\n",
            "Nueva solicitud: Solicitud 38 tiempo: 380.5274161193486\n",
            "Solicitud procesada: Solicitud 38 tiempo: 384.865641454323\n",
            "Solicitud procesada: Solicitud 37 tiempo: 389.70810689265176\n",
            "Nueva solicitud: Solicitud 39 tiempo: 411.513866359557\n",
            "Nueva solicitud: Solicitud 40 tiempo: 415.56808547512264\n",
            "Solicitud procesada: Solicitud 39 tiempo: 415.75251307996643\n",
            "Solicitud procesada: Solicitud 40 tiempo: 426.7787473902129\n",
            "Nueva solicitud: Solicitud 41 tiempo: 427.5537466948839\n",
            "Nueva solicitud: Solicitud 42 tiempo: 431.49998335685854\n",
            "Nueva solicitud: Solicitud 43 tiempo: 434.21244652839744\n",
            "Solicitud procesada: Solicitud 41 tiempo: 438.39885584764835\n",
            "Nueva solicitud: Solicitud 44 tiempo: 446.67302010983866\n",
            "Solicitud procesada: Solicitud 42 tiempo: 450.7409862330933\n",
            "Nueva solicitud: Solicitud 45 tiempo: 450.8748620853436\n",
            "Nueva solicitud: Solicitud 46 tiempo: 456.28677448209834\n",
            "Nueva solicitud: Solicitud 47 tiempo: 456.747409916178\n",
            "Solicitud procesada: Solicitud 44 tiempo: 457.3422669196247\n",
            "Solicitud procesada: Solicitud 45 tiempo: 459.77349315787404\n",
            "Solicitud procesada: Solicitud 43 tiempo: 462.3303600423528\n",
            "Solicitud procesada: Solicitud 46 tiempo: 467.5877291945073\n",
            "Nueva solicitud: Solicitud 48 tiempo: 468.85401636413343\n",
            "Nueva solicitud: Solicitud 49 tiempo: 471.0825892193213\n",
            "Nueva solicitud: Solicitud 50 tiempo: 472.62184419318345\n",
            "Solicitud procesada: Solicitud 48 tiempo: 482.15799061725806\n",
            "Solicitud procesada: Solicitud 47 tiempo: 482.79838795326043\n",
            "Solicitud procesada: Solicitud 49 tiempo: 483.84141606900357\n",
            "Solicitud procesada: Solicitud 50 tiempo: 489.3341306869594\n",
            "Nueva solicitud: Solicitud 51 tiempo: 492.1694192684543\n",
            "Nueva solicitud: Solicitud 52 tiempo: 494.7617642317554\n",
            "Nueva solicitud: Solicitud 53 tiempo: 495.6977427409812\n",
            "Solicitud procesada: Solicitud 52 tiempo: 501.98106846142576\n",
            "Solicitud procesada: Solicitud 51 tiempo: 509.4218090402506\n",
            "Solicitud procesada: Solicitud 53 tiempo: 512.147389179923\n",
            "Nueva solicitud: Solicitud 54 tiempo: 520.1022537263077\n",
            "Solicitud procesada: Solicitud 54 tiempo: 526.8493753030501\n",
            "Nueva solicitud: Solicitud 55 tiempo: 526.8610976225076\n",
            "Nueva solicitud: Solicitud 56 tiempo: 529.495526512393\n",
            "Solicitud procesada: Solicitud 55 tiempo: 536.7229227347636\n",
            "Solicitud procesada: Solicitud 56 tiempo: 538.9064144565453\n",
            "Nueva solicitud: Solicitud 57 tiempo: 557.9088663976779\n",
            "Solicitud procesada: Solicitud 57 tiempo: 568.1651595104605\n",
            "Nueva solicitud: Solicitud 58 tiempo: 582.5797190361545\n",
            "Nueva solicitud: Solicitud 59 tiempo: 583.3487511711891\n",
            "Nueva solicitud: Solicitud 60 tiempo: 584.9305998131181\n",
            "Solicitud procesada: Solicitud 58 tiempo: 591.4457075427433\n",
            "Solicitud procesada: Solicitud 59 tiempo: 594.2765300605093\n",
            "Nueva solicitud: Solicitud 61 tiempo: 597.1478449193114\n",
            "Nueva solicitud: Solicitud 62 tiempo: 600.5873699031391\n",
            "Solicitud procesada: Solicitud 60 tiempo: 611.6312462938265\n",
            "Solicitud procesada: Solicitud 61 tiempo: 613.6095361481024\n",
            "Solicitud procesada: Solicitud 62 tiempo: 629.6929559816919\n",
            "Nueva solicitud: Solicitud 63 tiempo: 637.524578825819\n",
            "Solicitud procesada: Solicitud 63 tiempo: 644.7554439735047\n",
            "Nueva solicitud: Solicitud 64 tiempo: 670.8529960484591\n",
            "Solicitud procesada: Solicitud 64 tiempo: 671.8148736116146\n",
            "Nueva solicitud: Solicitud 65 tiempo: 677.6335440672148\n",
            "Nueva solicitud: Solicitud 66 tiempo: 678.1504298032153\n",
            "Solicitud procesada: Solicitud 66 tiempo: 680.7591133080505\n",
            "Solicitud procesada: Solicitud 65 tiempo: 690.0574610158088\n",
            "Nueva solicitud: Solicitud 67 tiempo: 695.1941882844199\n",
            "Nueva solicitud: Solicitud 68 tiempo: 707.4899231256368\n",
            "Nueva solicitud: Solicitud 69 tiempo: 712.0448810039727\n",
            "Solicitud procesada: Solicitud 67 tiempo: 712.4568147834264\n",
            "Solicitud procesada: Solicitud 69 tiempo: 713.5866568960774\n",
            "Solicitud procesada: Solicitud 68 tiempo: 714.4940383377087\n",
            "Nueva solicitud: Solicitud 70 tiempo: 715.2391734386289\n",
            "Nueva solicitud: Solicitud 71 tiempo: 718.1298372283474\n",
            "Solicitud procesada: Solicitud 71 tiempo: 718.831174110709\n",
            "Nueva solicitud: Solicitud 72 tiempo: 718.9832640339222\n",
            "Solicitud procesada: Solicitud 70 tiempo: 721.6856082081812\n",
            "Nueva solicitud: Solicitud 73 tiempo: 730.129995087211\n",
            "Solicitud procesada: Solicitud 72 tiempo: 730.1872220698596\n",
            "Nueva solicitud: Solicitud 74 tiempo: 735.542924252494\n",
            "Solicitud procesada: Solicitud 74 tiempo: 737.4315577036967\n",
            "Nueva solicitud: Solicitud 75 tiempo: 746.2302737367694\n",
            "Solicitud procesada: Solicitud 73 tiempo: 757.258221792802\n",
            "Solicitud procesada: Solicitud 75 tiempo: 757.2790951895701\n",
            "Nueva solicitud: Solicitud 76 tiempo: 762.1211540501677\n",
            "Solicitud procesada: Solicitud 76 tiempo: 765.0406325030499\n",
            "Nueva solicitud: Solicitud 77 tiempo: 765.6551632947642\n",
            "Solicitud procesada: Solicitud 77 tiempo: 766.5223186514678\n",
            "Nueva solicitud: Solicitud 78 tiempo: 768.4241015308297\n",
            "Nueva solicitud: Solicitud 79 tiempo: 770.0633481957808\n",
            "Nueva solicitud: Solicitud 80 tiempo: 778.8058807198852\n",
            "Solicitud procesada: Solicitud 79 tiempo: 780.7546485678193\n",
            "Nueva solicitud: Solicitud 81 tiempo: 789.5471328488846\n",
            "Solicitud procesada: Solicitud 80 tiempo: 791.5870679175466\n",
            "Solicitud procesada: Solicitud 81 tiempo: 792.3319062325264\n",
            "Solicitud procesada: Solicitud 78 tiempo: 802.2865869983347\n",
            "Nueva solicitud: Solicitud 82 tiempo: 832.3756576452828\n",
            "Solicitud procesada: Solicitud 82 tiempo: 837.4914851686067\n",
            "Nueva solicitud: Solicitud 83 tiempo: 851.0560685037497\n",
            "Nueva solicitud: Solicitud 84 tiempo: 851.561621924092\n",
            "Solicitud procesada: Solicitud 83 tiempo: 853.868278217364\n",
            "Solicitud procesada: Solicitud 84 tiempo: 857.2663387411123\n",
            "Nueva solicitud: Solicitud 85 tiempo: 865.399987041357\n",
            "Solicitud procesada: Solicitud 85 tiempo: 867.1098298092977\n",
            "Nueva solicitud: Solicitud 86 tiempo: 872.1998043815735\n",
            "Solicitud procesada: Solicitud 86 tiempo: 878.4917326101225\n",
            "Nueva solicitud: Solicitud 87 tiempo: 895.0546350089289\n",
            "Solicitud procesada: Solicitud 87 tiempo: 896.65258023941\n",
            "Nueva solicitud: Solicitud 88 tiempo: 899.3174117806722\n",
            "Nueva solicitud: Solicitud 89 tiempo: 909.2946558848128\n",
            "Nueva solicitud: Solicitud 90 tiempo: 909.4965297122612\n",
            "Solicitud procesada: Solicitud 89 tiempo: 922.3535324612094\n",
            "Solicitud procesada: Solicitud 88 tiempo: 924.4901587236328\n",
            "Solicitud procesada: Solicitud 90 tiempo: 941.4250311857056\n",
            "Nueva solicitud: Solicitud 91 tiempo: 945.2063116755078\n",
            "Nueva solicitud: Solicitud 92 tiempo: 947.4696949284863\n",
            "Solicitud procesada: Solicitud 92 tiempo: 954.6592272495993\n",
            "Nueva solicitud: Solicitud 93 tiempo: 957.584563688069\n",
            "Solicitud procesada: Solicitud 93 tiempo: 960.1627608766737\n",
            "Solicitud procesada: Solicitud 91 tiempo: 960.7349274818149\n",
            "Nueva solicitud: Solicitud 94 tiempo: 964.9515675214\n",
            "Solicitud procesada: Solicitud 94 tiempo: 974.4449933782645\n",
            "Nueva solicitud: Solicitud 95 tiempo: 978.5410737379808\n",
            "Nueva solicitud: Solicitud 96 tiempo: 979.2728789185547\n",
            "Solicitud procesada: Solicitud 95 tiempo: 980.0886148271996\n",
            "Solicitud procesada: Solicitud 96 tiempo: 980.5580922411594\n",
            "Nueva solicitud: Solicitud 97 tiempo: 981.0731343340005\n",
            "Nueva solicitud: Solicitud 98 tiempo: 982.0020906598053\n",
            "Solicitud procesada: Solicitud 98 tiempo: 987.8657951602343\n",
            "Nueva solicitud: Solicitud 99 tiempo: 996.0697193941256\n",
            "Solicitud procesada: Solicitud 97 tiempo: 996.0718545745044\n",
            "Factor de ocupación del sistema: 0.3470654843449291\n",
            "Cantidad media de solicitudes en el buffer: 1.3838383838383839\n",
            "Cantidad media de solicitudes en el sistema: 2.36734693877551\n",
            "Tiempo medio que las solicitudes están en el buffer: 1.8841693514706408\n",
            "Tiempo medio de solicitudes en el sistema: 7.08296906826386\n"
          ]
        }
      ]
    },
    {
      "cell_type": "markdown",
      "metadata": {
        "id": "gVAp2Rv7Kl2b"
      },
      "source": [
        "####Ejercicio a partir de la simulación\n",
        "\"Evaluar la posibilidad de reemplazar las dos máquinas por una sola que procesa todos las solicitudes en\n",
        "un tiempo fijo de 5 segundos. Si el costo de tener solicitudes en el buffer es 0,2 USD/minuto y el costo de modificar la máquina es 2000 USD, Cuánto tiempo tomará amortizar el inversión?\"\n",
        "\n",
        "Pasos a seguir:\n",
        "* Simular varias veces hasta llegar a cubrir el valor de 2000usd.\n",
        "* Observar cuanto tiempo pasó en el cual llegamos a ese valor.\n",
        "* Sacando un promedio de todas las simulaciones, ese será el tiempo que le tomará al sistema en amortizar la inversión."
      ]
    },
    {
      "cell_type": "code",
      "source": [],
      "metadata": {
        "id": "BcXMyKZA7ffy"
      },
      "execution_count": null,
      "outputs": []
    },
    {
      "cell_type": "code",
      "source": [
        "import simpy\n",
        "import random\n",
        "\n",
        "# Parámetros de la simulación\n",
        "tiempo_simulacion = 60000  # Tiempo total de simulación en minutos\n",
        "frecuencia_media = 10  # Frecuencia media de llegada de solicitudes por minuto\n",
        "tiempo_procesamiento = 5  # Tiempo medio de procesamiento en segundos\n",
        "\n",
        "class Sistema:\n",
        "    def __init__(self, env):\n",
        "        self.env = env\n",
        "        self.buffer = simpy.Store(env)\n",
        "        self.maquinas = simpy.Resource(env)\n",
        "\n",
        "        self.tiempo_llegada_buffer = 0\n",
        "        self.tiempo_salida_buffer = 0\n",
        "\n",
        "        self.gastos = 0\n",
        "\n",
        "\n",
        "\n",
        "\n",
        "    def procesar_solicitud(self, solicitud):\n",
        "        yield self.buffer.put(solicitud)\n",
        "\n",
        "\n",
        "        with self.maquinas.request() as maquina:\n",
        "            yield maquina\n",
        "            self.tiempo_salida_buffer = self.env.now\n",
        "            tiempo_en_buffer = self.tiempo_salida_buffer - self.tiempo_llegada_buffer\n",
        "            self.gastos += (tiempo_en_buffer * 0.2)\n",
        "            #Ahora se procesan en 5 segundos\n",
        "            yield self.env.timeout(tiempo_procesamiento)\n",
        "\n",
        "\n",
        "    def llegada_solicitudes(self):\n",
        "        contador = 0\n",
        "        while True:\n",
        "            if(self.gastos > 2000):\n",
        "              tiempo_total_amortizacion =  self.env.now\n",
        "              print(\"Los gastos alcanzaron los 2000 usd en tiempo:\", tiempo_total_amortizacion)\n",
        "              break\n",
        "\n",
        "            else:\n",
        "              self.tiempo_llegada_buffer = self.env.now\n",
        "              yield self.env.timeout(random.expovariate(1 / frecuencia_media))\n",
        "              contador += 1\n",
        "              solicitud = \"Solicitud %d\" % contador\n",
        "              self.env.process(self.procesar_solicitud(solicitud))\n",
        "\n",
        "\n",
        "\n",
        "\n",
        "\n",
        "def simulacion():\n",
        "\n",
        "    env = simpy.Environment()\n",
        "\n",
        "    sistema = Sistema(env)\n",
        "\n",
        "    env.process(sistema.llegada_solicitudes())\n",
        "\n",
        "    env.run(until=tiempo_simulacion)\n",
        "\n",
        "\n",
        "simulacion()\n",
        "\n",
        "\n",
        "\n",
        "\n",
        "\n"
      ],
      "metadata": {
        "colab": {
          "base_uri": "https://localhost:8080/"
        },
        "outputId": "f1c82008-3a28-49a8-a541-ff12a98b7372",
        "id": "C_vulj70Oqvq"
      },
      "execution_count": null,
      "outputs": [
        {
          "output_type": "stream",
          "name": "stdout",
          "text": [
            "Los gastos alcanzaron los 2000 usd en tiempo: 55017.337477651956\n"
          ]
        }
      ]
    },
    {
      "cell_type": "markdown",
      "source": [
        "Al correr la simulación repetidas veces obtenemos un promedio de aproximadamente 57400 minutos. Es decir, tomará alrededor de 40 días amortizar el inversión."
      ],
      "metadata": {
        "id": "pdIoEipz7jGF"
      }
    },
    {
      "cell_type": "markdown",
      "metadata": {
        "id": "Rrzc_ZlTftmb"
      },
      "source": [
        "# Ejercicio 3"
      ]
    },
    {
      "cell_type": "markdown",
      "metadata": {
        "id": "MM6O_8CHgCDr"
      },
      "source": [
        "Un centro de distribución posee 4 dársenas de descarga, las cuales pueden utilizarse en paralelo, cada uno con un equipo de operarios. Camiones arriban siguiendo un proceso Poisson con una frecuencia de 5 por hora, si no tienen lugar esperan. El tiempo de descarga sigue una distribución exponencial con media de 30 minutos.\n",
        "Cada paquete descargado es identificado por un código de barras para luego ser enviado a almacenar.\n",
        "\n",
        "Se evalúa reemplazar la identificación de códigos de barras por RFID, lo que representaría reducir la media del tiempo de descarga en 5 minutos (manteniendo la misma distribución de probabilidades)\n",
        "\n",
        "En base a la modificación anterior se propone cerrar una dársena siempre que la media de camiones esperando para descargar no sea superior a 3.\n",
        "\n",
        "Se pide:\n",
        "- Simular ambos escenarios utilizando Simpy o programación tradicional.\n",
        "- Cantidad media de camiones en el sistema\n",
        "- Cantidad media de camiones en cola\n",
        "- Tiempo medio de camiones en el sistema\n",
        "- Tiempo medio de camiones en cola\n",
        "- Qué recomendación se puede hacer sobre el cierre de la dársena propuesto?"
      ]
    },
    {
      "cell_type": "markdown",
      "source": [
        "## Funciones"
      ],
      "metadata": {
        "id": "VPT0rqoJx9Q_"
      }
    },
    {
      "cell_type": "code",
      "source": [
        "!pip install -U simpy"
      ],
      "metadata": {
        "colab": {
          "base_uri": "https://localhost:8080/"
        },
        "id": "EI7ZqiIrx1LB",
        "outputId": "5de88b44-338d-4287-f779-44ad95210d0b"
      },
      "execution_count": null,
      "outputs": [
        {
          "output_type": "stream",
          "name": "stdout",
          "text": [
            "Looking in indexes: https://pypi.org/simple, https://us-python.pkg.dev/colab-wheels/public/simple/\n",
            "Requirement already satisfied: simpy in /usr/local/lib/python3.10/dist-packages (4.0.1)\n"
          ]
        }
      ]
    },
    {
      "cell_type": "code",
      "source": [
        "RANDOM_SEEDS = [1234, 5678, 9012, 3456, 7890]"
      ],
      "metadata": {
        "id": "UN3Isctnx6Ql"
      },
      "execution_count": null,
      "outputs": []
    },
    {
      "cell_type": "code",
      "source": [
        "import simpy\n",
        "import pandas as pd\n",
        "import numpy  as np\n",
        "from scipy.stats import norm\n",
        "from scipy.stats import expon\n",
        "\n",
        "def truck_arrival(env, number_scales, truck_arrival_mean, truck_service_mean):\n",
        "    next_truck_id = 0\n",
        "    while True:\n",
        "       ## exponential distribution for arrivals\n",
        "       next_truck = expon.rvs(scale = truck_arrival_mean, size = 1)\n",
        "       # wait for arrival\n",
        "       yield env.timeout(next_truck)\n",
        "       time_of_arrival = env.now\n",
        "       arrivals.append(time_of_arrival)\n",
        "       length = len(arrivals) - len(departures)\n",
        "       len_in_system.append(length)\n",
        "       next_truck_id += 1\n",
        "       print('%3d llega en %.2f' % (next_truck_id, env.now))\n",
        "\n",
        "       env.process(unloading(env, number_scales,\n",
        "                   next_truck_id,time_of_arrival, truck_service_mean))\n",
        "\n",
        "def unloading(env, scales_lines, truck_number, time_of_arrival, truck_service_mean):\n",
        "  with scales_lines.request() as req:\n",
        "    print('%3d entra a la fila en %.2f' %  (truck_number, env.now))\n",
        "    queue_in = env.now\n",
        "    length  = len(scales_lines.queue)\n",
        "    tme_in_queue.append(queue_in)\n",
        "    len_in_queue.append(length)\n",
        "    yield req\n",
        "    print('%3d sale de la fila en %.2f' % (truck_number, env.now))\n",
        "    queue_out = env.now\n",
        "    length    = len(scales_lines.queue)\n",
        "    tme_in_queue.append(queue_out)\n",
        "    len_in_queue.append(length)\n",
        "    #exponential distribution for the unloading process\n",
        "    r_normal = expon.rvs(scale = truck_service_mean, size = 1)\n",
        "    yield env.timeout(r_normal)\n",
        "    print('%3d descargando en %.2f' % (truck_number,r_normal))\n",
        "    print('%3d finalizo en %.2f' % (truck_number, env.now))\n",
        "    time_of_departure = env.now\n",
        "    departures.append(time_of_departure)\n",
        "    time_in_system = time_of_departure - time_of_arrival\n",
        "    in_system.append(time_in_system)\n",
        "    time_in_queue = queue_out - queue_in\n",
        "    in_queue.append(time_in_queue)"
      ],
      "metadata": {
        "id": "WKAaMR2dyJdZ"
      },
      "execution_count": null,
      "outputs": []
    },
    {
      "cell_type": "code",
      "source": [
        "def run(darsenas, seed, time, truck_arrival_mean, truck_service_mean):\n",
        "  env = simpy.Environment()\n",
        "  scales_lines = simpy.Resource(env, capacity = darsenas)\n",
        "  np.random.seed(seed)\n",
        "  env.process(truck_arrival(env, scales_lines, truck_arrival_mean, truck_service_mean))\n",
        "  env.run(until = time)"
      ],
      "metadata": {
        "id": "FrHdU6Zuy8y6"
      },
      "execution_count": null,
      "outputs": []
    },
    {
      "cell_type": "code",
      "source": [
        "## average number of trucks in the queue\n",
        "def avg_line(df_length):\n",
        "  df_length['delta_time'] = df_length['time'].shift(-1) - df_length['time']\n",
        "  df_length = df_length[0:-1]  #drop last row because it has infinite delta\n",
        "  avg = np.average(df_length['len'], weights=df_length['delta_time'])\n",
        "  return avg\n",
        "\n",
        "## average number of trucks in the system\n",
        "def avg_system(df_length):\n",
        "  df_length['delta_time'] = df_length['arrivals'].shift(-1) - df_length['arrivals']\n",
        "  df_length = df_length[0:-1]  #drop last row because it has infinite delta\n",
        "  avg = np.average(df_length['len'], weights=df_length['delta_time'])\n",
        "  return avg"
      ],
      "metadata": {
        "id": "Aw2-TXd6zBRJ"
      },
      "execution_count": null,
      "outputs": []
    },
    {
      "cell_type": "code",
      "source": [
        "def stats(tme_in_queue, len_in_queue, arrivals, len_in_system, in_queue, in_system):\n",
        "  df1 = pd.DataFrame(tme_in_queue, columns = ['time'])\n",
        "  df2 = pd.DataFrame(len_in_queue, columns = ['len'])\n",
        "  df_length = pd.concat([df1, df2], axis = 1)\n",
        "  avg_length  = avg_line(df_length)\n",
        "  df3 = pd.DataFrame(arrivals,   columns = ['arrivals'])\n",
        "  df5 = pd.DataFrame(len_in_system, columns = ['len'])\n",
        "  df_length2 = pd.concat([df3, df5], axis = 1)\n",
        "  avg_length2  = avg_system(df_length2)\n",
        "  avg_delay_inqueue = np.mean(in_queue)\n",
        "  avg_delay_insyst  = np.mean(in_system)\n",
        "  print('Tiempo medio de camiones en cola: %.5f'  % (avg_delay_inqueue))\n",
        "  print('Tiempo medio de camiones en el sistema: %.2f' % (avg_delay_insyst))\n",
        "  print('Cantidad media de camiones en cola: %.5f' %  (avg_length))\n",
        "  print('Cantidad media de camiones en el sistema: %.5f' %  (avg_length2))"
      ],
      "metadata": {
        "id": "Q96SCbnfz72g"
      },
      "execution_count": null,
      "outputs": []
    },
    {
      "cell_type": "markdown",
      "source": [
        "## Caso 1"
      ],
      "metadata": {
        "id": "nA3Ma2pX04L_"
      }
    },
    {
      "cell_type": "markdown",
      "source": [
        "Para el primer caso queremos simular con Simpy el arribo de los camiones al centro de distribución, el cual cuenta con 4 dársenas de descarga. Sabemos que los arribos siguen un proceso Poisson con lambda igual a 5, y que el tiempo de descarga sigue una distribución exponencial con media de 30 minutos, por lo que definimos las variables para realizar la simulación."
      ],
      "metadata": {
        "id": "kZLWoCFi173A"
      }
    },
    {
      "cell_type": "code",
      "source": [
        "DARSENAS = 4\n",
        "TRUCK_ARRIVAL_MEAN  = 0.2\n",
        "TRUCK_SERVICE_MEAN  = 0.5\n",
        "SIM_TIME  = 30\n",
        "arrivals, departures = [],[]\n",
        "in_queue, in_system  = [],[]\n",
        "tme_in_queue, len_in_queue = [],[]\n",
        "len_in_system = []"
      ],
      "metadata": {
        "id": "bvT5lcjR08HH"
      },
      "execution_count": null,
      "outputs": []
    },
    {
      "cell_type": "code",
      "source": [
        "run(DARSENAS, RANDOM_SEEDS[1], SIM_TIME, TRUCK_ARRIVAL_MEAN, TRUCK_SERVICE_MEAN)"
      ],
      "metadata": {
        "colab": {
          "base_uri": "https://localhost:8080/"
        },
        "id": "k0bqgzfx1AFp",
        "outputId": "3de3c2ba-602c-46bf-c0ef-929ebf7d8b9a"
      },
      "execution_count": null,
      "outputs": [
        {
          "output_type": "stream",
          "name": "stdout",
          "text": [
            "  1 llega en 0.13\n",
            "  1 entra a la fila en 0.13\n",
            "  1 sale de la fila en 0.13\n",
            "  2 llega en 0.15\n",
            "  2 entra a la fila en 0.15\n",
            "  2 sale de la fila en 0.15\n",
            "  3 llega en 0.29\n",
            "  3 entra a la fila en 0.29\n",
            "  3 sale de la fila en 0.29\n",
            "  1 descargando en 0.23\n",
            "  1 finalizo en 0.36\n",
            "  3 descargando en 0.10\n",
            "  3 finalizo en 0.39\n",
            "  4 llega en 0.41\n",
            "  4 entra a la fila en 0.41\n",
            "  4 sale de la fila en 0.41\n",
            "  4 descargando en 0.04\n",
            "  4 finalizo en 0.44\n",
            "  5 llega en 0.47\n",
            "  5 entra a la fila en 0.47\n",
            "  5 sale de la fila en 0.47\n",
            "  6 llega en 0.51\n",
            "  6 entra a la fila en 0.51\n",
            "  6 sale de la fila en 0.51\n",
            "  5 descargando en 0.05\n",
            "  5 finalizo en 0.52\n",
            "  2 descargando en 0.46\n",
            "  2 finalizo en 0.60\n",
            "  6 descargando en 0.11\n",
            "  6 finalizo en 0.62\n",
            "  7 llega en 0.78\n",
            "  7 entra a la fila en 0.78\n",
            "  7 sale de la fila en 0.78\n",
            "  8 llega en 1.07\n",
            "  8 entra a la fila en 1.07\n",
            "  8 sale de la fila en 1.07\n",
            "  7 descargando en 0.51\n",
            "  7 finalizo en 1.29\n",
            "  9 llega en 1.39\n",
            "  9 entra a la fila en 1.39\n",
            "  9 sale de la fila en 1.39\n",
            " 10 llega en 1.50\n",
            " 10 entra a la fila en 1.50\n",
            " 10 sale de la fila en 1.50\n",
            " 11 llega en 1.52\n",
            " 11 entra a la fila en 1.52\n",
            " 11 sale de la fila en 1.52\n",
            " 12 llega en 1.55\n",
            " 12 entra a la fila en 1.55\n",
            "  8 descargando en 0.78\n",
            "  8 finalizo en 1.85\n",
            " 12 sale de la fila en 1.85\n",
            " 11 descargando en 0.34\n",
            " 11 finalizo en 1.86\n",
            " 13 llega en 2.00\n",
            " 13 entra a la fila en 2.00\n",
            " 13 sale de la fila en 2.00\n",
            " 14 llega en 2.00\n",
            " 14 entra a la fila en 2.00\n",
            "  9 descargando en 0.78\n",
            "  9 finalizo en 2.17\n",
            " 14 sale de la fila en 2.17\n",
            " 13 descargando en 0.18\n",
            " 13 finalizo en 2.18\n",
            " 15 llega en 2.20\n",
            " 15 entra a la fila en 2.20\n",
            " 15 sale de la fila en 2.20\n",
            " 12 descargando en 0.73\n",
            " 12 finalizo en 2.58\n",
            " 15 descargando en 0.48\n",
            " 15 finalizo en 2.69\n",
            " 16 llega en 2.74\n",
            " 16 entra a la fila en 2.74\n",
            " 16 sale de la fila en 2.74\n",
            " 17 llega en 2.81\n",
            " 17 entra a la fila en 2.81\n",
            " 17 sale de la fila en 2.81\n",
            " 18 llega en 2.84\n",
            " 18 entra a la fila en 2.84\n",
            " 19 llega en 3.05\n",
            " 19 entra a la fila en 3.05\n",
            " 20 llega en 3.11\n",
            " 20 entra a la fila en 3.11\n",
            " 21 llega en 3.14\n",
            " 21 entra a la fila en 3.14\n",
            " 10 descargando en 1.66\n",
            " 10 finalizo en 3.16\n",
            " 18 sale de la fila en 3.16\n",
            " 16 descargando en 0.50\n",
            " 16 finalizo en 3.24\n",
            " 19 sale de la fila en 3.24\n",
            " 18 descargando en 0.16\n",
            " 18 finalizo en 3.32\n",
            " 20 sale de la fila en 3.32\n",
            " 22 llega en 3.35\n",
            " 22 entra a la fila en 3.35\n",
            " 23 llega en 3.46\n",
            " 23 entra a la fila en 3.46\n",
            " 19 descargando en 0.30\n",
            " 19 finalizo en 3.54\n",
            " 21 sale de la fila en 3.54\n",
            " 21 descargando en 0.04\n",
            " 21 finalizo en 3.58\n",
            " 22 sale de la fila en 3.58\n",
            " 17 descargando en 0.80\n",
            " 17 finalizo en 3.61\n",
            " 23 sale de la fila en 3.61\n",
            " 20 descargando en 0.31\n",
            " 20 finalizo en 3.63\n",
            " 22 descargando en 0.21\n",
            " 22 finalizo en 3.79\n",
            " 24 llega en 3.89\n",
            " 24 entra a la fila en 3.89\n",
            " 24 sale de la fila en 3.89\n",
            " 14 descargando en 2.05\n",
            " 14 finalizo en 4.22\n",
            " 25 llega en 4.29\n",
            " 25 entra a la fila en 4.29\n",
            " 25 sale de la fila en 4.29\n",
            " 26 llega en 4.34\n",
            " 26 entra a la fila en 4.34\n",
            " 26 sale de la fila en 4.34\n",
            " 23 descargando en 0.82\n",
            " 23 finalizo en 4.43\n",
            " 25 descargando en 0.19\n",
            " 25 finalizo en 4.48\n",
            " 27 llega en 4.52\n",
            " 27 entra a la fila en 4.52\n",
            " 27 sale de la fila en 4.52\n",
            " 26 descargando en 0.25\n",
            " 26 finalizo en 4.59\n",
            " 28 llega en 4.63\n",
            " 28 entra a la fila en 4.63\n",
            " 28 sale de la fila en 4.63\n",
            " 29 llega en 4.76\n",
            " 29 entra a la fila en 4.76\n",
            " 29 sale de la fila en 4.76\n",
            " 30 llega en 4.79\n",
            " 30 entra a la fila en 4.79\n",
            " 29 descargando en 0.15\n",
            " 29 finalizo en 4.92\n",
            " 30 sale de la fila en 4.92\n",
            " 30 descargando en 0.15\n",
            " 30 finalizo en 5.07\n",
            " 31 llega en 5.08\n",
            " 31 entra a la fila en 5.08\n",
            " 31 sale de la fila en 5.08\n",
            " 31 descargando en 0.40\n",
            " 31 finalizo en 5.48\n",
            " 32 llega en 5.53\n",
            " 32 entra a la fila en 5.53\n",
            " 32 sale de la fila en 5.53\n",
            " 33 llega en 5.63\n",
            " 33 entra a la fila en 5.63\n",
            " 32 descargando en 0.17\n",
            " 32 finalizo en 5.69\n",
            " 33 sale de la fila en 5.69\n",
            " 28 descargando en 1.20\n",
            " 28 finalizo en 5.84\n",
            " 34 llega en 5.91\n",
            " 34 entra a la fila en 5.91\n",
            " 34 sale de la fila en 5.91\n",
            " 34 descargando en 0.35\n",
            " 34 finalizo en 6.26\n",
            " 35 llega en 6.28\n",
            " 35 entra a la fila en 6.28\n",
            " 35 sale de la fila en 6.28\n",
            " 36 llega en 6.31\n",
            " 36 entra a la fila en 6.31\n",
            " 35 descargando en 0.07\n",
            " 35 finalizo en 6.36\n",
            " 36 sale de la fila en 6.36\n",
            " 24 descargando en 2.59\n",
            " 24 finalizo en 6.48\n",
            " 37 llega en 6.50\n",
            " 37 entra a la fila en 6.50\n",
            " 37 sale de la fila en 6.50\n",
            " 36 descargando en 0.19\n",
            " 36 finalizo en 6.55\n",
            " 38 llega en 6.55\n",
            " 38 entra a la fila en 6.55\n",
            " 38 sale de la fila en 6.55\n",
            " 38 descargando en 0.08\n",
            " 38 finalizo en 6.63\n",
            " 39 llega en 6.74\n",
            " 39 entra a la fila en 6.74\n",
            " 39 sale de la fila en 6.74\n",
            " 37 descargando en 0.25\n",
            " 37 finalizo en 6.74\n",
            " 40 llega en 6.75\n",
            " 40 entra a la fila en 6.75\n",
            " 40 sale de la fila en 6.75\n",
            " 41 llega en 6.76\n",
            " 41 entra a la fila en 6.76\n",
            " 39 descargando en 0.02\n",
            " 39 finalizo en 6.76\n",
            " 41 sale de la fila en 6.76\n",
            " 41 descargando en 0.01\n",
            " 41 finalizo en 6.77\n",
            " 27 descargando en 2.47\n",
            " 27 finalizo en 6.99\n",
            " 33 descargando en 1.30\n",
            " 33 finalizo en 7.00\n",
            " 42 llega en 7.08\n",
            " 42 entra a la fila en 7.08\n",
            " 42 sale de la fila en 7.08\n",
            " 43 llega en 7.42\n",
            " 43 entra a la fila en 7.42\n",
            " 43 sale de la fila en 7.42\n",
            " 42 descargando en 0.47\n",
            " 42 finalizo en 7.56\n",
            " 40 descargando en 0.81\n",
            " 40 finalizo en 7.56\n",
            " 44 llega en 7.69\n",
            " 44 entra a la fila en 7.69\n",
            " 44 sale de la fila en 7.69\n",
            " 45 llega en 7.82\n",
            " 45 entra a la fila en 7.82\n",
            " 45 sale de la fila en 7.82\n",
            " 43 descargando en 0.49\n",
            " 43 finalizo en 7.92\n",
            " 46 llega en 8.10\n",
            " 46 entra a la fila en 8.10\n",
            " 46 sale de la fila en 8.10\n",
            " 44 descargando en 0.49\n",
            " 44 finalizo en 8.18\n",
            " 46 descargando en 0.27\n",
            " 46 finalizo en 8.37\n",
            " 45 descargando en 0.63\n",
            " 45 finalizo en 8.45\n",
            " 47 llega en 8.70\n",
            " 47 entra a la fila en 8.70\n",
            " 47 sale de la fila en 8.70\n",
            " 47 descargando en 0.15\n",
            " 47 finalizo en 8.84\n",
            " 48 llega en 9.26\n",
            " 48 entra a la fila en 9.26\n",
            " 48 sale de la fila en 9.26\n",
            " 49 llega en 9.75\n",
            " 49 entra a la fila en 9.75\n",
            " 49 sale de la fila en 9.75\n",
            " 50 llega en 9.78\n",
            " 50 entra a la fila en 9.78\n",
            " 50 sale de la fila en 9.78\n",
            " 48 descargando en 0.55\n",
            " 48 finalizo en 9.81\n",
            " 51 llega en 9.81\n",
            " 51 entra a la fila en 9.81\n",
            " 51 sale de la fila en 9.81\n",
            " 52 llega en 10.27\n",
            " 52 entra a la fila en 10.27\n",
            " 52 sale de la fila en 10.27\n",
            " 51 descargando en 0.47\n",
            " 51 finalizo en 10.28\n",
            " 50 descargando en 0.51\n",
            " 50 finalizo en 10.30\n",
            " 52 descargando en 0.13\n",
            " 52 finalizo en 10.40\n",
            " 53 llega en 10.45\n",
            " 53 entra a la fila en 10.45\n",
            " 53 sale de la fila en 10.45\n",
            " 54 llega en 10.55\n",
            " 54 entra a la fila en 10.55\n",
            " 54 sale de la fila en 10.55\n",
            " 53 descargando en 0.09\n",
            " 53 finalizo en 10.55\n",
            " 49 descargando en 0.82\n",
            " 49 finalizo en 10.57\n",
            " 54 descargando en 0.11\n",
            " 54 finalizo en 10.65\n",
            " 55 llega en 10.72\n",
            " 55 entra a la fila en 10.72\n",
            " 55 sale de la fila en 10.72\n",
            " 55 descargando en 0.01\n",
            " 55 finalizo en 10.73\n",
            " 56 llega en 10.91\n",
            " 56 entra a la fila en 10.91\n",
            " 56 sale de la fila en 10.91\n",
            " 56 descargando en 0.11\n",
            " 56 finalizo en 11.02\n",
            " 57 llega en 11.05\n",
            " 57 entra a la fila en 11.05\n",
            " 57 sale de la fila en 11.05\n",
            " 58 llega en 11.15\n",
            " 58 entra a la fila en 11.15\n",
            " 58 sale de la fila en 11.15\n",
            " 59 llega en 11.58\n",
            " 59 entra a la fila en 11.58\n",
            " 59 sale de la fila en 11.58\n",
            " 58 descargando en 0.74\n",
            " 58 finalizo en 11.89\n",
            " 60 llega en 11.93\n",
            " 60 entra a la fila en 11.93\n",
            " 60 sale de la fila en 11.93\n",
            " 61 llega en 12.03\n",
            " 61 entra a la fila en 12.03\n",
            " 61 sale de la fila en 12.03\n",
            " 62 llega en 12.20\n",
            " 62 entra a la fila en 12.20\n",
            " 61 descargando en 0.45\n",
            " 61 finalizo en 12.48\n",
            " 62 sale de la fila en 12.48\n",
            " 59 descargando en 0.91\n",
            " 59 finalizo en 12.49\n",
            " 63 llega en 12.55\n",
            " 63 entra a la fila en 12.55\n",
            " 63 sale de la fila en 12.55\n",
            " 63 descargando en 0.00\n",
            " 63 finalizo en 12.55\n",
            " 57 descargando en 1.73\n",
            " 57 finalizo en 12.78\n",
            " 64 llega en 12.90\n",
            " 64 entra a la fila en 12.90\n",
            " 64 sale de la fila en 12.90\n",
            " 60 descargando en 0.98\n",
            " 60 finalizo en 12.90\n",
            " 64 descargando en 0.02\n",
            " 64 finalizo en 12.92\n",
            " 65 llega en 13.58\n",
            " 65 entra a la fila en 13.58\n",
            " 65 sale de la fila en 13.58\n",
            " 62 descargando en 1.19\n",
            " 62 finalizo en 13.67\n",
            " 65 descargando en 0.38\n",
            " 65 finalizo en 13.96\n",
            " 66 llega en 14.33\n",
            " 66 entra a la fila en 14.33\n",
            " 66 sale de la fila en 14.33\n",
            " 66 descargando en 0.10\n",
            " 66 finalizo en 14.43\n",
            " 67 llega en 14.55\n",
            " 67 entra a la fila en 14.55\n",
            " 67 sale de la fila en 14.55\n",
            " 67 descargando en 0.16\n",
            " 67 finalizo en 14.71\n",
            " 68 llega en 14.75\n",
            " 68 entra a la fila en 14.75\n",
            " 68 sale de la fila en 14.75\n",
            " 69 llega en 15.12\n",
            " 69 entra a la fila en 15.12\n",
            " 69 sale de la fila en 15.12\n",
            " 69 descargando en 0.01\n",
            " 69 finalizo en 15.13\n",
            " 70 llega en 15.30\n",
            " 70 entra a la fila en 15.30\n",
            " 70 sale de la fila en 15.30\n",
            " 71 llega en 15.39\n",
            " 71 entra a la fila en 15.39\n",
            " 71 sale de la fila en 15.39\n",
            " 71 descargando en 0.05\n",
            " 71 finalizo en 15.44\n",
            " 72 llega en 15.44\n",
            " 72 entra a la fila en 15.44\n",
            " 72 sale de la fila en 15.44\n",
            " 72 descargando en 0.05\n",
            " 72 finalizo en 15.48\n",
            " 70 descargando en 0.21\n",
            " 70 finalizo en 15.51\n",
            " 73 llega en 15.67\n",
            " 73 entra a la fila en 15.67\n",
            " 73 sale de la fila en 15.67\n",
            " 74 llega en 15.84\n",
            " 74 entra a la fila en 15.84\n",
            " 74 sale de la fila en 15.84\n",
            " 73 descargando en 0.17\n",
            " 73 finalizo en 15.84\n",
            " 75 llega en 15.86\n",
            " 75 entra a la fila en 15.86\n",
            " 75 sale de la fila en 15.86\n",
            " 68 descargando en 1.23\n",
            " 68 finalizo en 15.98\n",
            " 74 descargando en 0.20\n",
            " 74 finalizo en 16.04\n",
            " 76 llega en 16.31\n",
            " 76 entra a la fila en 16.31\n",
            " 76 sale de la fila en 16.31\n",
            " 77 llega en 16.37\n",
            " 77 entra a la fila en 16.37\n",
            " 77 sale de la fila en 16.37\n",
            " 77 descargando en 0.20\n",
            " 77 finalizo en 16.58\n",
            " 78 llega en 16.65\n",
            " 78 entra a la fila en 16.65\n",
            " 78 sale de la fila en 16.65\n",
            " 78 descargando en 0.10\n",
            " 78 finalizo en 16.75\n",
            " 76 descargando en 0.46\n",
            " 76 finalizo en 16.76\n",
            " 75 descargando en 0.94\n",
            " 75 finalizo en 16.81\n",
            " 79 llega en 17.13\n",
            " 79 entra a la fila en 17.13\n",
            " 79 sale de la fila en 17.13\n",
            " 80 llega en 17.52\n",
            " 80 entra a la fila en 17.52\n",
            " 80 sale de la fila en 17.52\n",
            " 79 descargando en 0.46\n",
            " 79 finalizo en 17.59\n",
            " 81 llega en 17.61\n",
            " 81 entra a la fila en 17.61\n",
            " 81 sale de la fila en 17.61\n",
            " 80 descargando en 0.17\n",
            " 80 finalizo en 17.69\n",
            " 81 descargando en 0.58\n",
            " 81 finalizo en 18.19\n",
            " 82 llega en 18.37\n",
            " 82 entra a la fila en 18.37\n",
            " 82 sale de la fila en 18.37\n",
            " 83 llega en 18.58\n",
            " 83 entra a la fila en 18.58\n",
            " 83 sale de la fila en 18.58\n",
            " 84 llega en 18.65\n",
            " 84 entra a la fila en 18.65\n",
            " 84 sale de la fila en 18.65\n",
            " 83 descargando en 0.39\n",
            " 83 finalizo en 18.97\n",
            " 85 llega en 19.09\n",
            " 85 entra a la fila en 19.09\n",
            " 85 sale de la fila en 19.09\n",
            " 86 llega en 19.27\n",
            " 86 entra a la fila en 19.27\n",
            " 86 sale de la fila en 19.27\n",
            " 86 descargando en 0.00\n",
            " 86 finalizo en 19.27\n",
            " 87 llega en 19.29\n",
            " 87 entra a la fila en 19.29\n",
            " 87 sale de la fila en 19.29\n",
            " 88 llega en 19.29\n",
            " 88 entra a la fila en 19.29\n",
            " 82 descargando en 1.11\n",
            " 82 finalizo en 19.48\n",
            " 88 sale de la fila en 19.48\n",
            " 84 descargando en 0.94\n",
            " 84 finalizo en 19.59\n",
            " 89 llega en 19.75\n",
            " 89 entra a la fila en 19.75\n",
            " 89 sale de la fila en 19.75\n",
            " 89 descargando en 0.11\n",
            " 89 finalizo en 19.86\n",
            " 90 llega en 20.07\n",
            " 90 entra a la fila en 20.07\n",
            " 90 sale de la fila en 20.07\n",
            " 91 llega en 20.09\n",
            " 91 entra a la fila en 20.09\n",
            " 92 llega en 20.17\n",
            " 92 entra a la fila en 20.17\n",
            " 90 descargando en 0.15\n",
            " 90 finalizo en 20.22\n",
            " 91 sale de la fila en 20.22\n",
            " 93 llega en 20.25\n",
            " 93 entra a la fila en 20.25\n",
            " 94 llega en 20.36\n",
            " 94 entra a la fila en 20.36\n",
            " 95 llega en 20.41\n",
            " 95 entra a la fila en 20.41\n",
            " 85 descargando en 1.41\n",
            " 85 finalizo en 20.51\n",
            " 92 sale de la fila en 20.51\n",
            " 96 llega en 20.56\n",
            " 96 entra a la fila en 20.56\n",
            " 97 llega en 20.62\n",
            " 97 entra a la fila en 20.62\n",
            " 92 descargando en 0.16\n",
            " 92 finalizo en 20.66\n",
            " 93 sale de la fila en 20.66\n",
            " 93 descargando en 0.09\n",
            " 93 finalizo en 20.75\n",
            " 94 sale de la fila en 20.75\n",
            " 88 descargando en 1.28\n",
            " 88 finalizo en 20.76\n",
            " 95 sale de la fila en 20.76\n",
            " 94 descargando en 0.16\n",
            " 94 finalizo en 20.91\n",
            " 96 sale de la fila en 20.91\n",
            " 95 descargando en 0.16\n",
            " 95 finalizo en 20.92\n",
            " 97 sale de la fila en 20.92\n",
            " 87 descargando en 1.71\n",
            " 87 finalizo en 21.00\n",
            " 91 descargando en 0.81\n",
            " 91 finalizo en 21.03\n",
            " 98 llega en 21.10\n",
            " 98 entra a la fila en 21.10\n",
            " 98 sale de la fila en 21.10\n",
            " 99 llega en 21.17\n",
            " 99 entra a la fila en 21.17\n",
            " 99 sale de la fila en 21.17\n",
            "100 llega en 21.21\n",
            "100 entra a la fila en 21.21\n",
            "101 llega en 21.23\n",
            "101 entra a la fila en 21.23\n",
            "102 llega en 21.35\n",
            "102 entra a la fila en 21.35\n",
            " 99 descargando en 0.19\n",
            " 99 finalizo en 21.36\n",
            "100 sale de la fila en 21.36\n",
            "103 llega en 21.41\n",
            "103 entra a la fila en 21.41\n",
            "104 llega en 21.41\n",
            "104 entra a la fila en 21.41\n",
            " 97 descargando en 0.51\n",
            " 97 finalizo en 21.43\n",
            "101 sale de la fila en 21.43\n",
            "105 llega en 21.53\n",
            "105 entra a la fila en 21.53\n",
            "101 descargando en 0.15\n",
            "101 finalizo en 21.58\n",
            "102 sale de la fila en 21.58\n",
            " 98 descargando en 0.53\n",
            " 98 finalizo en 21.63\n",
            "103 sale de la fila en 21.63\n",
            "106 llega en 21.69\n",
            "106 entra a la fila en 21.69\n",
            "107 llega en 21.72\n",
            "107 entra a la fila en 21.72\n",
            "108 llega en 21.79\n",
            "108 entra a la fila en 21.79\n",
            " 96 descargando en 0.89\n",
            " 96 finalizo en 21.80\n",
            "104 sale de la fila en 21.80\n",
            "103 descargando en 0.17\n",
            "103 finalizo en 21.80\n",
            "105 sale de la fila en 21.80\n",
            "109 llega en 21.87\n",
            "109 entra a la fila en 21.87\n",
            "105 descargando en 0.21\n",
            "105 finalizo en 22.01\n",
            "106 sale de la fila en 22.01\n",
            "104 descargando en 0.24\n",
            "104 finalizo en 22.04\n",
            "107 sale de la fila en 22.04\n",
            "110 llega en 22.06\n",
            "110 entra a la fila en 22.06\n",
            "111 llega en 22.06\n",
            "111 entra a la fila en 22.06\n",
            "107 descargando en 0.05\n",
            "107 finalizo en 22.09\n",
            "108 sale de la fila en 22.09\n",
            "112 llega en 22.26\n",
            "112 entra a la fila en 22.26\n",
            "102 descargando en 0.79\n",
            "102 finalizo en 22.36\n",
            "109 sale de la fila en 22.36\n",
            "113 llega en 22.39\n",
            "113 entra a la fila en 22.39\n",
            "109 descargando en 0.09\n",
            "109 finalizo en 22.45\n",
            "110 sale de la fila en 22.45\n",
            "106 descargando en 0.49\n",
            "106 finalizo en 22.50\n",
            "111 sale de la fila en 22.50\n",
            "100 descargando en 1.17\n",
            "100 finalizo en 22.54\n",
            "112 sale de la fila en 22.54\n",
            "114 llega en 22.54\n",
            "114 entra a la fila en 22.54\n",
            "108 descargando en 0.47\n",
            "108 finalizo en 22.56\n",
            "113 sale de la fila en 22.56\n",
            "115 llega en 22.72\n",
            "115 entra a la fila en 22.72\n",
            "111 descargando en 0.26\n",
            "111 finalizo en 22.76\n",
            "114 sale de la fila en 22.76\n",
            "113 descargando en 0.22\n",
            "113 finalizo en 22.78\n",
            "115 sale de la fila en 22.78\n",
            "110 descargando en 0.34\n",
            "110 finalizo en 22.79\n",
            "114 descargando en 0.19\n",
            "114 finalizo en 22.95\n",
            "116 llega en 22.97\n",
            "116 entra a la fila en 22.97\n",
            "116 sale de la fila en 22.97\n",
            "117 llega en 23.15\n",
            "117 entra a la fila en 23.15\n",
            "117 sale de la fila en 23.15\n",
            "118 llega en 23.16\n",
            "118 entra a la fila en 23.16\n",
            "117 descargando en 0.03\n",
            "117 finalizo en 23.18\n",
            "118 sale de la fila en 23.18\n",
            "119 llega en 23.28\n",
            "119 entra a la fila en 23.28\n",
            "120 llega en 23.47\n",
            "120 entra a la fila en 23.47\n",
            "118 descargando en 0.44\n",
            "118 finalizo en 23.62\n",
            "119 sale de la fila en 23.62\n",
            "112 descargando en 1.11\n",
            "112 finalizo en 23.65\n",
            "120 sale de la fila en 23.65\n",
            "119 descargando en 0.21\n",
            "119 finalizo en 23.83\n",
            "121 llega en 23.86\n",
            "121 entra a la fila en 23.86\n",
            "121 sale de la fila en 23.86\n",
            "120 descargando en 0.25\n",
            "120 finalizo en 23.90\n",
            "122 llega en 24.02\n",
            "122 entra a la fila en 24.02\n",
            "122 sale de la fila en 24.02\n",
            "116 descargando en 1.11\n",
            "116 finalizo en 24.08\n",
            "123 llega en 24.18\n",
            "123 entra a la fila en 24.18\n",
            "123 sale de la fila en 24.18\n",
            "124 llega en 24.56\n",
            "124 entra a la fila en 24.56\n",
            "121 descargando en 0.98\n",
            "121 finalizo en 24.83\n",
            "124 sale de la fila en 24.83\n",
            "125 llega en 24.85\n",
            "125 entra a la fila en 24.85\n",
            "122 descargando en 0.85\n",
            "122 finalizo en 24.87\n",
            "125 sale de la fila en 24.87\n",
            "126 llega en 24.94\n",
            "126 entra a la fila en 24.94\n",
            "125 descargando en 0.09\n",
            "125 finalizo en 24.96\n",
            "126 sale de la fila en 24.96\n",
            "115 descargando en 2.39\n",
            "115 finalizo en 25.17\n",
            "127 llega en 25.21\n",
            "127 entra a la fila en 25.21\n",
            "127 sale de la fila en 25.21\n",
            "127 descargando en 0.06\n",
            "127 finalizo en 25.28\n",
            "123 descargando en 1.10\n",
            "123 finalizo en 25.28\n",
            "124 descargando en 0.49\n",
            "124 finalizo en 25.33\n",
            "126 descargando en 0.40\n",
            "126 finalizo en 25.36\n",
            "128 llega en 25.60\n",
            "128 entra a la fila en 25.60\n",
            "128 sale de la fila en 25.60\n",
            "129 llega en 25.65\n",
            "129 entra a la fila en 25.65\n",
            "129 sale de la fila en 25.65\n",
            "130 llega en 25.81\n",
            "130 entra a la fila en 25.81\n",
            "130 sale de la fila en 25.81\n",
            "131 llega en 26.04\n",
            "131 entra a la fila en 26.04\n",
            "131 sale de la fila en 26.04\n",
            "130 descargando en 0.28\n",
            "130 finalizo en 26.10\n",
            "128 descargando en 0.56\n",
            "128 finalizo en 26.17\n",
            "131 descargando en 0.15\n",
            "131 finalizo en 26.19\n",
            "129 descargando en 0.75\n",
            "129 finalizo en 26.39\n",
            "132 llega en 26.78\n",
            "132 entra a la fila en 26.78\n",
            "132 sale de la fila en 26.78\n",
            "132 descargando en 0.05\n",
            "132 finalizo en 26.83\n",
            "133 llega en 26.86\n",
            "133 entra a la fila en 26.86\n",
            "133 sale de la fila en 26.86\n",
            "133 descargando en 0.01\n",
            "133 finalizo en 26.88\n",
            "134 llega en 27.03\n",
            "134 entra a la fila en 27.03\n",
            "134 sale de la fila en 27.03\n",
            "135 llega en 27.11\n",
            "135 entra a la fila en 27.11\n",
            "135 sale de la fila en 27.11\n",
            "136 llega en 27.11\n",
            "136 entra a la fila en 27.11\n",
            "136 sale de la fila en 27.11\n",
            "136 descargando en 0.07\n",
            "136 finalizo en 27.18\n",
            "137 llega en 27.21\n",
            "137 entra a la fila en 27.21\n",
            "137 sale de la fila en 27.21\n",
            "138 llega en 27.33\n",
            "138 entra a la fila en 27.33\n",
            "138 sale de la fila en 27.33\n",
            "139 llega en 27.55\n",
            "139 entra a la fila en 27.55\n",
            "140 llega en 27.58\n",
            "140 entra a la fila en 27.58\n",
            "141 llega en 27.59\n",
            "141 entra a la fila en 27.59\n",
            "142 llega en 27.61\n",
            "142 entra a la fila en 27.61\n",
            "143 llega en 27.68\n",
            "143 entra a la fila en 27.68\n",
            "134 descargando en 0.67\n",
            "134 finalizo en 27.70\n",
            "139 sale de la fila en 27.70\n",
            "135 descargando en 0.62\n",
            "135 finalizo en 27.73\n",
            "140 sale de la fila en 27.73\n",
            "144 llega en 27.75\n",
            "144 entra a la fila en 27.75\n",
            "138 descargando en 0.50\n",
            "138 finalizo en 27.83\n",
            "141 sale de la fila en 27.83\n",
            "137 descargando en 0.70\n",
            "137 finalizo en 27.91\n",
            "142 sale de la fila en 27.91\n",
            "145 llega en 27.96\n",
            "145 entra a la fila en 27.96\n",
            "142 descargando en 0.21\n",
            "142 finalizo en 28.12\n",
            "143 sale de la fila en 28.12\n",
            "141 descargando en 0.35\n",
            "141 finalizo en 28.18\n",
            "144 sale de la fila en 28.18\n",
            "143 descargando en 0.11\n",
            "143 finalizo en 28.23\n",
            "145 sale de la fila en 28.23\n",
            "146 llega en 28.35\n",
            "146 entra a la fila en 28.35\n",
            "144 descargando en 0.24\n",
            "144 finalizo en 28.42\n",
            "146 sale de la fila en 28.42\n",
            "147 llega en 28.51\n",
            "147 entra a la fila en 28.51\n",
            "146 descargando en 0.11\n",
            "146 finalizo en 28.52\n",
            "147 sale de la fila en 28.52\n",
            "147 descargando en 0.04\n",
            "147 finalizo en 28.56\n",
            "148 llega en 28.66\n",
            "148 entra a la fila en 28.66\n",
            "148 sale de la fila en 28.66\n",
            "140 descargando en 0.98\n",
            "140 finalizo en 28.70\n",
            "149 llega en 28.78\n",
            "149 entra a la fila en 28.78\n",
            "149 sale de la fila en 28.78\n",
            "149 descargando en 0.08\n",
            "149 finalizo en 28.86\n",
            "148 descargando en 0.30\n",
            "148 finalizo en 28.97\n",
            "139 descargando en 1.34\n",
            "139 finalizo en 29.04\n",
            "145 descargando en 1.08\n",
            "145 finalizo en 29.31\n",
            "150 llega en 29.31\n",
            "150 entra a la fila en 29.31\n",
            "150 sale de la fila en 29.31\n",
            "150 descargando en 0.48\n",
            "150 finalizo en 29.79\n",
            "151 llega en 29.89\n",
            "151 entra a la fila en 29.89\n",
            "151 sale de la fila en 29.89\n"
          ]
        }
      ]
    },
    {
      "cell_type": "code",
      "source": [
        "stats(tme_in_queue, len_in_queue, arrivals, len_in_system, in_queue, in_system)"
      ],
      "metadata": {
        "colab": {
          "base_uri": "https://localhost:8080/"
        },
        "id": "jTq3pbwE1D5Q",
        "outputId": "7e1d8c05-a836-4cd9-ee43-aaefcef5517f"
      },
      "execution_count": null,
      "outputs": [
        {
          "output_type": "stream",
          "name": "stdout",
          "text": [
            "Tiempo medio de camiones en cola: 0.08204\n",
            "Tiempo medio de camiones en el sistema: 0.57\n",
            "Cantidad media de camiones en cola: 0.41355\n",
            "Cantidad media de camiones en el sistema: 3.74590\n"
          ]
        }
      ]
    },
    {
      "cell_type": "code",
      "source": [
        "import matplotlib.pyplot as plt\n",
        "plt.plot(tme_in_queue, len_in_queue,'ro')\n",
        "plt.xlabel('time')\n",
        "plt.ylabel('trucks in queue')\n",
        "plt.show()"
      ],
      "metadata": {
        "colab": {
          "base_uri": "https://localhost:8080/",
          "height": 458
        },
        "id": "yy4BGX_05hb1",
        "outputId": "62fa6962-02b7-4393-9d99-6609acbf0d0d"
      },
      "execution_count": null,
      "outputs": [
        {
          "output_type": "display_data",
          "data": {
            "text/plain": [
              "<Figure size 640x480 with 1 Axes>"
            ],
            "image/png": "[encoded data removed]"
          },
          "metadata": {}
        }
      ]
    },
    {
      "cell_type": "markdown",
      "source": [
        "## Caso 2"
      ],
      "metadata": {
        "id": "dmMqsYBs1Kd0"
      }
    },
    {
      "cell_type": "markdown",
      "source": [
        "Para este escenario la media del tiempo de descarga disminuye en 5 minutos y se evalúa utilizar solo 3 dársenas."
      ],
      "metadata": {
        "id": "h2hVQhoHATy-"
      }
    },
    {
      "cell_type": "code",
      "source": [
        "DARSENAS = 3\n",
        "TRUCK_ARRIVAL_MEAN  = 0.2\n",
        "TRUCK_SERVICE_MEAN  = 0.42\n",
        "SIM_TIME  = 30\n",
        "arrivals, departures = [],[]\n",
        "in_queue, in_system  = [],[]\n",
        "tme_in_queue, len_in_queue = [],[]\n",
        "len_in_system = []"
      ],
      "metadata": {
        "id": "H-jXaH9r1Nfe"
      },
      "execution_count": null,
      "outputs": []
    },
    {
      "cell_type": "code",
      "source": [
        "run(DARSENAS, RANDOM_SEEDS[1], SIM_TIME, TRUCK_ARRIVAL_MEAN, TRUCK_SERVICE_MEAN)"
      ],
      "metadata": {
        "colab": {
          "base_uri": "https://localhost:8080/"
        },
        "id": "a-d-DOQ91PZe",
        "outputId": "f61996bc-5c66-4907-b91c-8f5940422ac8"
      },
      "execution_count": null,
      "outputs": [
        {
          "output_type": "stream",
          "name": "stdout",
          "text": [
            "  1 llega en 0.13\n",
            "  1 entra a la fila en 0.13\n",
            "  1 sale de la fila en 0.13\n",
            "  2 llega en 0.15\n",
            "  2 entra a la fila en 0.15\n",
            "  2 sale de la fila en 0.15\n",
            "  3 llega en 0.29\n",
            "  3 entra a la fila en 0.29\n",
            "  3 sale de la fila en 0.29\n",
            "  1 descargando en 0.19\n",
            "  1 finalizo en 0.33\n",
            "  3 descargando en 0.08\n",
            "  3 finalizo en 0.38\n",
            "  4 llega en 0.41\n",
            "  4 entra a la fila en 0.41\n",
            "  4 sale de la fila en 0.41\n",
            "  4 descargando en 0.03\n",
            "  4 finalizo en 0.44\n",
            "  5 llega en 0.47\n",
            "  5 entra a la fila en 0.47\n",
            "  5 sale de la fila en 0.47\n",
            "  5 descargando en 0.04\n",
            "  5 finalizo en 0.51\n",
            "  6 llega en 0.51\n",
            "  6 entra a la fila en 0.51\n",
            "  6 sale de la fila en 0.51\n",
            "  2 descargando en 0.38\n",
            "  2 finalizo en 0.53\n",
            "  6 descargando en 0.09\n",
            "  6 finalizo en 0.61\n",
            "  7 llega en 0.78\n",
            "  7 entra a la fila en 0.78\n",
            "  7 sale de la fila en 0.78\n",
            "  8 llega en 1.07\n",
            "  8 entra a la fila en 1.07\n",
            "  8 sale de la fila en 1.07\n",
            "  7 descargando en 0.43\n",
            "  7 finalizo en 1.21\n",
            "  9 llega en 1.39\n",
            "  9 entra a la fila en 1.39\n",
            "  9 sale de la fila en 1.39\n",
            " 10 llega en 1.50\n",
            " 10 entra a la fila en 1.50\n",
            " 10 sale de la fila en 1.50\n",
            " 11 llega en 1.52\n",
            " 11 entra a la fila en 1.52\n",
            " 12 llega en 1.55\n",
            " 12 entra a la fila en 1.55\n",
            " 13 llega en 1.69\n",
            " 13 entra a la fila en 1.69\n",
            "  8 descargando en 0.65\n",
            "  8 finalizo en 1.72\n",
            " 11 sale de la fila en 1.72\n",
            "  9 descargando en 0.65\n",
            "  9 finalizo en 2.04\n",
            " 12 sale de la fila en 2.04\n",
            " 12 descargando en 0.01\n",
            " 12 finalizo en 2.05\n",
            " 13 sale de la fila en 2.05\n",
            " 14 llega en 2.14\n",
            " 14 entra a la fila en 2.14\n",
            " 13 descargando en 0.16\n",
            " 13 finalizo en 2.21\n",
            " 14 sale de la fila en 2.21\n",
            " 11 descargando en 0.61\n",
            " 11 finalizo en 2.33\n",
            " 15 llega en 2.34\n",
            " 15 entra a la fila en 2.34\n",
            " 15 sale de la fila en 2.34\n",
            " 15 descargando en 0.41\n",
            " 15 finalizo en 2.74\n",
            " 16 llega en 2.88\n",
            " 16 entra a la fila en 2.88\n",
            " 16 sale de la fila en 2.88\n",
            " 10 descargando en 1.40\n",
            " 10 finalizo en 2.90\n",
            " 17 llega en 2.94\n",
            " 17 entra a la fila en 2.94\n",
            " 17 sale de la fila en 2.94\n",
            " 18 llega en 2.97\n",
            " 18 entra a la fila en 2.97\n",
            " 19 llega en 3.18\n",
            " 19 entra a la fila en 3.18\n",
            " 20 llega en 3.24\n",
            " 20 entra a la fila en 3.24\n",
            " 21 llega en 3.27\n",
            " 21 entra a la fila en 3.27\n",
            " 16 descargando en 0.42\n",
            " 16 finalizo en 3.30\n",
            " 18 sale de la fila en 3.30\n",
            " 18 descargando en 0.13\n",
            " 18 finalizo en 3.43\n",
            " 19 sale de la fila en 3.43\n",
            " 22 llega en 3.48\n",
            " 22 entra a la fila en 3.48\n",
            " 23 llega en 3.60\n",
            " 23 entra a la fila en 3.60\n",
            " 17 descargando en 0.68\n",
            " 17 finalizo en 3.61\n",
            " 20 sale de la fila en 3.61\n",
            " 19 descargando en 0.25\n",
            " 19 finalizo en 3.68\n",
            " 21 sale de la fila en 3.68\n",
            " 21 descargando en 0.03\n",
            " 21 finalizo en 3.71\n",
            " 22 sale de la fila en 3.71\n",
            " 24 llega en 3.72\n",
            " 24 entra a la fila en 3.72\n",
            " 22 descargando en 0.18\n",
            " 22 finalizo en 3.89\n",
            " 23 sale de la fila en 3.89\n",
            " 14 descargando en 1.73\n",
            " 14 finalizo en 3.93\n",
            " 24 sale de la fila en 3.93\n",
            " 25 llega en 4.04\n",
            " 25 entra a la fila en 4.04\n",
            " 26 llega en 4.09\n",
            " 26 entra a la fila en 4.09\n",
            " 27 llega en 4.17\n",
            " 27 entra a la fila en 4.17\n",
            " 28 llega en 4.35\n",
            " 28 entra a la fila en 4.35\n",
            " 29 llega en 4.45\n",
            " 29 entra a la fila en 4.45\n",
            " 20 descargando en 0.90\n",
            " 20 finalizo en 4.52\n",
            " 25 sale de la fila en 4.52\n",
            " 30 llega en 4.56\n",
            " 30 entra a la fila en 4.56\n",
            " 31 llega en 4.69\n",
            " 31 entra a la fila en 4.69\n",
            " 23 descargando en 0.85\n",
            " 23 finalizo en 4.74\n",
            " 26 sale de la fila en 4.74\n",
            " 26 descargando en 0.05\n",
            " 26 finalizo en 4.79\n",
            " 27 sale de la fila en 4.79\n",
            " 27 descargando en 0.13\n",
            " 27 finalizo en 4.92\n",
            " 28 sale de la fila en 4.92\n",
            " 32 llega en 5.18\n",
            " 32 entra a la fila en 5.18\n",
            " 33 llega en 5.24\n",
            " 33 entra a la fila en 5.24\n",
            " 28 descargando en 0.61\n",
            " 28 finalizo en 5.52\n",
            " 29 sale de la fila en 5.52\n",
            " 34 llega en 5.69\n",
            " 34 entra a la fila en 5.69\n",
            " 35 llega en 5.79\n",
            " 35 entra a la fila en 5.79\n",
            " 36 llega en 5.86\n",
            " 36 entra a la fila en 5.86\n",
            " 29 descargando en 0.34\n",
            " 29 finalizo en 5.86\n",
            " 30 sale de la fila en 5.86\n",
            " 24 descargando en 2.17\n",
            " 24 finalizo en 6.11\n",
            " 31 sale de la fila en 6.11\n",
            " 37 llega en 6.13\n",
            " 37 entra a la fila en 6.13\n",
            " 38 llega en 6.27\n",
            " 38 entra a la fila en 6.27\n",
            " 39 llega en 6.29\n",
            " 39 entra a la fila en 6.29\n",
            " 40 llega en 6.32\n",
            " 40 entra a la fila en 6.32\n",
            " 41 llega en 6.51\n",
            " 41 entra a la fila en 6.51\n",
            " 42 llega en 6.59\n",
            " 42 entra a la fila en 6.59\n",
            " 25 descargando en 2.07\n",
            " 25 finalizo en 6.59\n",
            " 32 sale de la fila en 6.59\n",
            " 43 llega en 6.64\n",
            " 43 entra a la fila en 6.64\n",
            " 32 descargando en 0.21\n",
            " 32 finalizo en 6.80\n",
            " 33 sale de la fila en 6.80\n",
            " 44 llega en 6.83\n",
            " 44 entra a la fila en 6.83\n",
            " 45 llega en 6.84\n",
            " 45 entra a la fila en 6.84\n",
            " 46 llega en 6.85\n",
            " 46 entra a la fila en 6.85\n",
            " 47 llega en 6.86\n",
            " 47 entra a la fila en 6.86\n",
            " 33 descargando en 0.06\n",
            " 33 finalizo en 6.86\n",
            " 34 sale de la fila en 6.86\n",
            " 31 descargando en 0.80\n",
            " 31 finalizo en 6.90\n",
            " 35 sale de la fila en 6.90\n",
            " 35 descargando en 0.01\n",
            " 35 finalizo en 6.91\n",
            " 36 sale de la fila en 6.91\n",
            " 30 descargando en 1.10\n",
            " 30 finalizo en 6.96\n",
            " 37 sale de la fila en 6.96\n",
            " 48 llega en 7.18\n",
            " 48 entra a la fila en 7.18\n",
            " 37 descargando en 0.40\n",
            " 37 finalizo en 7.36\n",
            " 38 sale de la fila en 7.36\n",
            " 49 llega en 7.45\n",
            " 49 entra a la fila en 7.45\n",
            " 34 descargando en 0.69\n",
            " 34 finalizo en 7.55\n",
            " 39 sale de la fila en 7.55\n",
            " 50 llega en 7.58\n",
            " 50 entra a la fila en 7.58\n",
            " 36 descargando en 0.72\n",
            " 36 finalizo en 7.62\n",
            " 40 sale de la fila en 7.62\n",
            " 38 descargando en 0.41\n",
            " 38 finalizo en 7.77\n",
            " 41 sale de la fila en 7.77\n",
            " 51 llega en 7.85\n",
            " 51 entra a la fila en 7.85\n",
            " 39 descargando en 0.41\n",
            " 39 finalizo en 7.96\n",
            " 42 sale de la fila en 7.96\n",
            " 52 llega en 7.96\n",
            " 52 entra a la fila en 7.96\n",
            " 53 llega en 8.02\n",
            " 53 entra a la fila en 8.02\n",
            " 40 descargando en 0.53\n",
            " 40 finalizo en 8.15\n",
            " 43 sale de la fila en 8.15\n",
            " 54 llega en 8.51\n",
            " 54 entra a la fila en 8.51\n",
            " 55 llega en 8.54\n",
            " 55 entra a la fila en 8.54\n",
            " 43 descargando en 0.46\n",
            " 43 finalizo en 8.61\n",
            " 44 sale de la fila en 8.61\n",
            " 44 descargando en 0.05\n",
            " 44 finalizo en 8.66\n",
            " 45 sale de la fila en 8.66\n",
            " 56 llega en 8.87\n",
            " 56 entra a la fila en 8.87\n",
            " 41 descargando en 1.26\n",
            " 41 finalizo en 9.03\n",
            " 46 sale de la fila en 9.03\n",
            " 45 descargando en 0.43\n",
            " 45 finalizo en 9.09\n",
            " 47 sale de la fila en 9.09\n",
            " 42 descargando en 1.18\n",
            " 42 finalizo en 9.14\n",
            " 48 sale de la fila en 9.14\n",
            " 48 descargando en 0.11\n",
            " 48 finalizo en 9.25\n",
            " 49 sale de la fila en 9.25\n",
            " 57 llega en 9.32\n",
            " 57 entra a la fila en 9.32\n",
            " 58 llega en 9.36\n",
            " 58 entra a la fila en 9.36\n",
            " 46 descargando en 0.40\n",
            " 46 finalizo en 9.43\n",
            " 50 sale de la fila en 9.43\n",
            " 49 descargando en 0.20\n",
            " 49 finalizo en 9.45\n",
            " 51 sale de la fila en 9.45\n",
            " 47 descargando en 0.39\n",
            " 47 finalizo en 9.48\n",
            " 52 sale de la fila en 9.48\n",
            " 52 descargando en 0.01\n",
            " 52 finalizo en 9.49\n",
            " 53 sale de la fila en 9.49\n",
            " 50 descargando en 0.09\n",
            " 50 finalizo en 9.52\n",
            " 54 sale de la fila en 9.52\n",
            " 59 llega en 9.54\n",
            " 59 entra a la fila en 9.54\n",
            " 54 descargando en 0.09\n",
            " 54 finalizo en 9.61\n",
            " 55 sale de la fila en 9.61\n",
            " 60 llega en 9.64\n",
            " 60 entra a la fila en 9.64\n",
            " 53 descargando en 0.31\n",
            " 53 finalizo en 9.79\n",
            " 56 sale de la fila en 9.79\n",
            " 51 descargando en 0.38\n",
            " 51 finalizo en 9.84\n",
            " 57 sale de la fila en 9.84\n",
            " 61 llega en 10.07\n",
            " 61 entra a la fila en 10.07\n",
            " 56 descargando en 0.62\n",
            " 56 finalizo en 10.41\n",
            " 58 sale de la fila en 10.41\n",
            " 62 llega en 10.43\n",
            " 62 entra a la fila en 10.43\n",
            " 57 descargando en 0.72\n",
            " 57 finalizo en 10.56\n",
            " 59 sale de la fila en 10.56\n",
            " 58 descargando en 0.21\n",
            " 58 finalizo en 10.62\n",
            " 60 sale de la fila en 10.62\n",
            " 63 llega en 10.82\n",
            " 63 entra a la fila en 10.82\n",
            " 59 descargando en 0.37\n",
            " 59 finalizo en 10.93\n",
            " 61 sale de la fila en 10.93\n",
            " 60 descargando en 0.38\n",
            " 60 finalizo en 11.00\n",
            " 62 sale de la fila en 11.00\n",
            " 55 descargando en 1.45\n",
            " 55 finalizo en 11.06\n",
            " 63 sale de la fila en 11.06\n",
            " 63 descargando en 0.00\n",
            " 63 finalizo en 11.06\n",
            " 64 llega en 11.17\n",
            " 64 entra a la fila en 11.17\n",
            " 64 sale de la fila en 11.17\n",
            " 64 descargando en 0.02\n",
            " 64 finalizo en 11.19\n",
            " 62 descargando en 0.72\n",
            " 62 finalizo en 11.73\n",
            " 65 llega en 11.86\n",
            " 65 entra a la fila en 11.86\n",
            " 65 sale de la fila en 11.86\n",
            " 61 descargando en 1.00\n",
            " 61 finalizo en 11.94\n",
            " 65 descargando en 0.32\n",
            " 65 finalizo en 12.17\n",
            " 66 llega en 12.60\n",
            " 66 entra a la fila en 12.60\n",
            " 66 sale de la fila en 12.60\n",
            " 66 descargando en 0.09\n",
            " 66 finalizo en 12.69\n",
            " 67 llega en 12.82\n",
            " 67 entra a la fila en 12.82\n",
            " 67 sale de la fila en 12.82\n",
            " 67 descargando en 0.14\n",
            " 67 finalizo en 12.96\n",
            " 68 llega en 13.03\n",
            " 68 entra a la fila en 13.03\n",
            " 68 sale de la fila en 13.03\n",
            " 69 llega en 13.39\n",
            " 69 entra a la fila en 13.39\n",
            " 69 sale de la fila en 13.39\n",
            " 69 descargando en 0.01\n",
            " 69 finalizo en 13.40\n",
            " 70 llega en 13.57\n",
            " 70 entra a la fila en 13.57\n",
            " 70 sale de la fila en 13.57\n",
            " 71 llega en 13.67\n",
            " 71 entra a la fila en 13.67\n",
            " 71 sale de la fila en 13.67\n",
            " 71 descargando en 0.04\n",
            " 71 finalizo en 13.70\n",
            " 72 llega en 13.71\n",
            " 72 entra a la fila en 13.71\n",
            " 72 sale de la fila en 13.71\n",
            " 70 descargando en 0.18\n",
            " 70 finalizo en 13.75\n",
            " 72 descargando en 0.04\n",
            " 72 finalizo en 13.75\n",
            " 73 llega en 13.94\n",
            " 73 entra a la fila en 13.94\n",
            " 73 sale de la fila en 13.94\n",
            " 68 descargando en 1.03\n",
            " 68 finalizo en 14.06\n",
            " 73 descargando en 0.15\n",
            " 73 finalizo en 14.09\n",
            " 74 llega en 14.11\n",
            " 74 entra a la fila en 14.11\n",
            " 74 sale de la fila en 14.11\n",
            " 75 llega en 14.14\n",
            " 75 entra a la fila en 14.14\n",
            " 75 sale de la fila en 14.14\n",
            " 74 descargando en 0.17\n",
            " 74 finalizo en 14.28\n",
            " 76 llega en 14.58\n",
            " 76 entra a la fila en 14.58\n",
            " 76 sale de la fila en 14.58\n",
            " 77 llega en 14.65\n",
            " 77 entra a la fila en 14.65\n",
            " 77 sale de la fila en 14.65\n",
            " 77 descargando en 0.17\n",
            " 77 finalizo en 14.82\n",
            " 78 llega en 14.92\n",
            " 78 entra a la fila en 14.92\n",
            " 78 sale de la fila en 14.92\n",
            " 75 descargando en 0.79\n",
            " 75 finalizo en 14.93\n",
            " 76 descargando en 0.38\n",
            " 76 finalizo en 14.96\n",
            " 78 descargando en 0.09\n",
            " 78 finalizo en 15.01\n",
            " 79 llega en 15.40\n",
            " 79 entra a la fila en 15.40\n",
            " 79 sale de la fila en 15.40\n",
            " 79 descargando en 0.39\n",
            " 79 finalizo en 15.79\n",
            " 80 llega en 15.79\n",
            " 80 entra a la fila en 15.79\n",
            " 80 sale de la fila en 15.79\n",
            " 81 llega en 15.88\n",
            " 81 entra a la fila en 15.88\n",
            " 81 sale de la fila en 15.88\n",
            " 80 descargando en 0.14\n",
            " 80 finalizo en 15.93\n",
            " 81 descargando en 0.49\n",
            " 81 finalizo en 16.37\n",
            " 82 llega en 16.64\n",
            " 82 entra a la fila en 16.64\n",
            " 82 sale de la fila en 16.64\n",
            " 83 llega en 16.85\n",
            " 83 entra a la fila en 16.85\n",
            " 83 sale de la fila en 16.85\n",
            " 84 llega en 16.92\n",
            " 84 entra a la fila en 16.92\n",
            " 84 sale de la fila en 16.92\n",
            " 83 descargando en 0.33\n",
            " 83 finalizo en 17.19\n",
            " 85 llega en 17.37\n",
            " 85 entra a la fila en 17.37\n",
            " 85 sale de la fila en 17.37\n",
            " 86 llega en 17.54\n",
            " 86 entra a la fila en 17.54\n",
            " 87 llega en 17.56\n",
            " 87 entra a la fila en 17.56\n",
            " 88 llega en 17.56\n",
            " 88 entra a la fila en 17.56\n",
            " 89 llega en 17.57\n",
            " 89 entra a la fila en 17.57\n",
            " 82 descargando en 0.93\n",
            " 82 finalizo en 17.57\n",
            " 86 sale de la fila en 17.57\n",
            " 84 descargando en 0.79\n",
            " 84 finalizo en 17.72\n",
            " 87 sale de la fila en 17.72\n",
            " 90 llega en 18.25\n",
            " 90 entra a la fila en 18.25\n",
            " 86 descargando en 0.97\n",
            " 86 finalizo en 18.54\n",
            " 88 sale de la fila en 18.54\n",
            " 85 descargando en 1.19\n",
            " 85 finalizo en 18.55\n",
            " 89 sale de la fila en 18.55\n",
            " 91 llega en 18.57\n",
            " 91 entra a la fila en 18.57\n",
            " 89 descargando en 0.04\n",
            " 89 finalizo en 18.59\n",
            " 90 sale de la fila en 18.59\n",
            " 92 llega en 18.63\n",
            " 92 entra a la fila en 18.63\n",
            " 88 descargando en 0.09\n",
            " 88 finalizo en 18.63\n",
            " 91 sale de la fila en 18.63\n",
            " 93 llega en 18.71\n",
            " 93 entra a la fila en 18.71\n",
            " 90 descargando en 0.17\n",
            " 90 finalizo en 18.76\n",
            " 92 sale de la fila en 18.76\n",
            " 87 descargando en 1.08\n",
            " 87 finalizo en 18.79\n",
            " 93 sale de la fila en 18.79\n",
            " 94 llega en 18.82\n",
            " 94 entra a la fila en 18.82\n",
            " 92 descargando en 0.09\n",
            " 92 finalizo en 18.86\n",
            " 94 sale de la fila en 18.86\n",
            " 95 llega en 18.88\n",
            " 95 entra a la fila en 18.88\n",
            " 94 descargando en 0.11\n",
            " 94 finalizo en 18.97\n",
            " 95 sale de la fila en 18.97\n",
            " 95 descargando en 0.07\n",
            " 95 finalizo en 19.04\n",
            " 93 descargando en 0.33\n",
            " 93 finalizo en 19.12\n",
            " 91 descargando en 0.68\n",
            " 91 finalizo en 19.31\n",
            " 96 llega en 19.37\n",
            " 96 entra a la fila en 19.37\n",
            " 96 sale de la fila en 19.37\n",
            " 97 llega en 19.43\n",
            " 97 entra a la fila en 19.43\n",
            " 97 sale de la fila en 19.43\n",
            " 96 descargando en 0.13\n",
            " 96 finalizo en 19.50\n",
            " 98 llega en 19.79\n",
            " 98 entra a la fila en 19.79\n",
            " 98 sale de la fila en 19.79\n",
            " 99 llega en 19.86\n",
            " 99 entra a la fila en 19.86\n",
            " 99 sale de la fila en 19.86\n",
            " 97 descargando en 0.43\n",
            " 97 finalizo en 19.86\n",
            "100 llega en 19.89\n",
            "100 entra a la fila en 19.89\n",
            "100 sale de la fila en 19.89\n",
            "101 llega en 19.91\n",
            "101 entra a la fila en 19.91\n",
            "102 llega en 19.98\n",
            "102 entra a la fila en 19.98\n",
            " 99 descargando en 0.16\n",
            " 99 finalizo en 20.02\n",
            "101 sale de la fila en 20.02\n",
            "101 descargando en 0.01\n",
            "101 finalizo en 20.03\n",
            "102 sale de la fila en 20.03\n",
            "100 descargando en 0.25\n",
            "100 finalizo en 20.14\n",
            " 98 descargando en 0.44\n",
            " 98 finalizo en 20.23\n",
            "102 descargando en 0.25\n",
            "102 finalizo en 20.28\n",
            "103 llega en 20.45\n",
            "103 entra a la fila en 20.45\n",
            "103 sale de la fila en 20.45\n",
            "104 llega en 20.51\n",
            "104 entra a la fila en 20.51\n",
            "104 sale de la fila en 20.51\n",
            "104 descargando en 0.15\n",
            "104 finalizo en 20.65\n",
            "103 descargando en 0.32\n",
            "103 finalizo en 20.77\n",
            "105 llega en 20.82\n",
            "105 entra a la fila en 20.82\n",
            "105 sale de la fila en 20.82\n",
            "106 llega en 20.85\n",
            "106 entra a la fila en 20.85\n",
            "106 sale de la fila en 20.85\n",
            "107 llega en 20.94\n",
            "107 entra a la fila en 20.94\n",
            "107 sale de la fila en 20.94\n",
            "105 descargando en 0.14\n",
            "105 finalizo en 20.96\n",
            "108 llega en 21.03\n",
            "108 entra a la fila en 21.03\n",
            "108 sale de la fila en 21.03\n",
            "106 descargando en 0.20\n",
            "106 finalizo en 21.05\n",
            "108 descargando en 0.04\n",
            "108 finalizo en 21.07\n",
            "109 llega en 21.22\n",
            "109 entra a la fila en 21.22\n",
            "109 sale de la fila en 21.22\n",
            "110 llega en 21.23\n",
            "110 entra a la fila en 21.23\n",
            "110 sale de la fila en 21.23\n",
            "107 descargando en 0.38\n",
            "107 finalizo en 21.33\n",
            "111 llega en 21.42\n",
            "111 entra a la fila en 21.42\n",
            "111 sale de la fila en 21.42\n",
            "112 llega en 21.45\n",
            "112 entra a la fila en 21.45\n",
            "110 descargando en 0.27\n",
            "110 finalizo en 21.49\n",
            "112 sale de la fila en 21.49\n",
            "113 llega en 21.59\n",
            "113 entra a la fila en 21.59\n",
            "109 descargando en 0.42\n",
            "109 finalizo en 21.64\n",
            "113 sale de la fila en 21.64\n",
            "112 descargando en 0.22\n",
            "112 finalizo en 21.71\n",
            "111 descargando en 0.33\n",
            "111 finalizo en 21.74\n",
            "113 descargando en 0.38\n",
            "113 finalizo en 22.02\n",
            "114 llega en 22.03\n",
            "114 entra a la fila en 22.03\n",
            "114 sale de la fila en 22.03\n",
            "115 llega en 22.12\n",
            "115 entra a la fila en 22.12\n",
            "115 sale de la fila en 22.12\n",
            "116 llega en 22.20\n",
            "116 entra a la fila en 22.20\n",
            "116 sale de la fila en 22.20\n",
            "117 llega en 22.38\n",
            "117 entra a la fila en 22.38\n",
            "118 llega en 22.39\n",
            "118 entra a la fila en 22.39\n",
            "119 llega en 22.40\n",
            "119 entra a la fila en 22.40\n",
            "120 llega en 22.52\n",
            "120 entra a la fila en 22.52\n",
            "114 descargando en 0.51\n",
            "114 finalizo en 22.54\n",
            "117 sale de la fila en 22.54\n",
            "121 llega en 22.70\n",
            "121 entra a la fila en 22.70\n",
            "117 descargando en 0.39\n",
            "117 finalizo en 22.93\n",
            "118 sale de la fila en 22.93\n",
            "122 llega en 23.09\n",
            "122 entra a la fila en 23.09\n",
            "118 descargando en 0.18\n",
            "118 finalizo en 23.11\n",
            "119 sale de la fila en 23.11\n",
            "116 descargando en 0.93\n",
            "116 finalizo en 23.13\n",
            "120 sale de la fila en 23.13\n",
            "123 llega en 23.19\n",
            "123 entra a la fila en 23.19\n",
            "124 llega en 23.36\n",
            "124 entra a la fila en 23.36\n",
            "119 descargando en 0.33\n",
            "119 finalizo en 23.44\n",
            "121 sale de la fila en 23.44\n",
            "125 llega en 23.70\n",
            "125 entra a la fila en 23.70\n",
            "120 descargando en 0.82\n",
            "120 finalizo en 23.95\n",
            "122 sale de la fila en 23.95\n",
            "115 descargando en 2.00\n",
            "115 finalizo en 24.13\n",
            "123 sale de la fila en 24.13\n",
            "126 llega en 24.14\n",
            "126 entra a la fila en 24.14\n",
            "127 llega en 24.22\n",
            "127 entra a la fila en 24.22\n",
            "121 descargando en 0.80\n",
            "121 finalizo en 24.24\n",
            "124 sale de la fila en 24.24\n",
            "128 llega en 24.26\n",
            "128 entra a la fila en 24.26\n",
            "129 llega en 24.42\n",
            "129 entra a la fila en 24.42\n",
            "123 descargando en 0.42\n",
            "123 finalizo en 24.54\n",
            "125 sale de la fila en 24.54\n",
            "122 descargando en 0.60\n",
            "122 finalizo en 24.55\n",
            "126 sale de la fila en 24.55\n",
            "125 descargando en 0.05\n",
            "125 finalizo en 24.59\n",
            "127 sale de la fila en 24.59\n",
            "126 descargando en 0.09\n",
            "126 finalizo en 24.64\n",
            "128 sale de la fila en 24.64\n",
            "130 llega en 24.81\n",
            "130 entra a la fila en 24.81\n",
            "124 descargando en 0.58\n",
            "124 finalizo en 24.83\n",
            "129 sale de la fila en 24.83\n",
            "128 descargando en 0.35\n",
            "128 finalizo en 24.99\n",
            "130 sale de la fila en 24.99\n",
            "127 descargando en 0.47\n",
            "127 finalizo en 25.07\n",
            "131 llega en 25.11\n",
            "131 entra a la fila en 25.11\n",
            "131 sale de la fila en 25.11\n",
            "130 descargando en 0.24\n",
            "130 finalizo en 25.23\n",
            "131 descargando en 0.13\n",
            "131 finalizo en 25.24\n",
            "129 descargando en 0.48\n",
            "129 finalizo en 25.31\n",
            "132 llega en 25.85\n",
            "132 entra a la fila en 25.85\n",
            "132 sale de la fila en 25.85\n",
            "132 descargando en 0.04\n",
            "132 finalizo en 25.89\n",
            "133 llega en 25.93\n",
            "133 entra a la fila en 25.93\n",
            "133 sale de la fila en 25.93\n",
            "133 descargando en 0.01\n",
            "133 finalizo en 25.94\n",
            "134 llega en 26.10\n",
            "134 entra a la fila en 26.10\n",
            "134 sale de la fila en 26.10\n",
            "135 llega en 26.18\n",
            "135 entra a la fila en 26.18\n",
            "135 sale de la fila en 26.18\n",
            "136 llega en 26.18\n",
            "136 entra a la fila en 26.18\n",
            "136 sale de la fila en 26.18\n",
            "136 descargando en 0.06\n",
            "136 finalizo en 26.24\n",
            "137 llega en 26.28\n",
            "137 entra a la fila en 26.28\n",
            "137 sale de la fila en 26.28\n",
            "138 llega en 26.39\n",
            "138 entra a la fila en 26.39\n",
            "139 llega en 26.62\n",
            "139 entra a la fila en 26.62\n",
            "134 descargando en 0.56\n",
            "134 finalizo en 26.66\n",
            "138 sale de la fila en 26.66\n",
            "135 descargando en 0.52\n",
            "135 finalizo en 26.70\n",
            "139 sale de la fila en 26.70\n",
            "138 descargando en 0.05\n",
            "138 finalizo en 26.71\n",
            "139 descargando en 0.02\n",
            "139 finalizo en 26.72\n",
            "140 llega en 26.82\n",
            "140 entra a la fila en 26.82\n",
            "140 sale de la fila en 26.82\n",
            "141 llega en 26.85\n",
            "141 entra a la fila en 26.85\n",
            "141 sale de la fila en 26.85\n",
            "137 descargando en 0.59\n",
            "137 finalizo en 26.87\n",
            "142 llega en 26.92\n",
            "142 entra a la fila en 26.92\n",
            "142 sale de la fila en 26.92\n",
            "140 descargando en 0.13\n",
            "140 finalizo en 26.96\n",
            "143 llega en 27.31\n",
            "143 entra a la fila en 27.31\n",
            "143 sale de la fila en 27.31\n",
            "142 descargando en 0.44\n",
            "142 finalizo en 27.36\n",
            "144 llega en 27.45\n",
            "144 entra a la fila en 27.45\n",
            "144 sale de la fila en 27.45\n",
            "143 descargando en 0.17\n",
            "143 finalizo en 27.49\n",
            "144 descargando en 0.09\n",
            "144 finalizo en 27.54\n",
            "145 llega en 27.85\n",
            "145 entra a la fila en 27.85\n",
            "145 sale de la fila en 27.85\n",
            "146 llega en 27.94\n",
            "146 entra a la fila en 27.94\n",
            "146 sale de la fila en 27.94\n",
            "141 descargando en 1.13\n",
            "141 finalizo en 27.97\n",
            "146 descargando en 0.09\n",
            "146 finalizo en 28.03\n",
            "147 llega en 28.10\n",
            "147 entra a la fila en 28.10\n",
            "147 sale de la fila en 28.10\n",
            "147 descargando en 0.03\n",
            "147 finalizo en 28.13\n",
            "148 llega en 28.25\n",
            "148 entra a la fila en 28.25\n",
            "148 sale de la fila en 28.25\n",
            "149 llega en 28.37\n",
            "149 entra a la fila en 28.37\n",
            "149 sale de la fila en 28.37\n",
            "149 descargando en 0.07\n",
            "149 finalizo en 28.44\n",
            "148 descargando en 0.25\n",
            "148 finalizo en 28.51\n",
            "145 descargando en 0.91\n",
            "145 finalizo en 28.76\n",
            "150 llega en 28.90\n",
            "150 entra a la fila en 28.90\n",
            "150 sale de la fila en 28.90\n",
            "150 descargando en 0.40\n",
            "150 finalizo en 29.31\n",
            "151 llega en 29.48\n",
            "151 entra a la fila en 29.48\n",
            "151 sale de la fila en 29.48\n",
            "151 descargando en 0.13\n",
            "151 finalizo en 29.61\n",
            "152 llega en 29.84\n",
            "152 entra a la fila en 29.84\n",
            "152 sale de la fila en 29.84\n"
          ]
        }
      ]
    },
    {
      "cell_type": "code",
      "source": [
        "stats(tme_in_queue, len_in_queue, arrivals, len_in_system, in_queue, in_system)"
      ],
      "metadata": {
        "colab": {
          "base_uri": "https://localhost:8080/"
        },
        "id": "q5yCrvcy1SoY",
        "outputId": "748b488e-5d8f-4c8d-d3f2-750fb97cb6d0"
      },
      "execution_count": null,
      "outputs": [
        {
          "output_type": "stream",
          "name": "stdout",
          "text": [
            "Tiempo medio de camiones en cola: 0.41189\n",
            "Tiempo medio de camiones en el sistema: 0.83\n",
            "Cantidad media de camiones en cola: 2.09400\n",
            "Cantidad media de camiones en el sistema: 5.17359\n"
          ]
        }
      ]
    },
    {
      "cell_type": "code",
      "source": [
        "import matplotlib.pyplot as plt\n",
        "plt.plot(tme_in_queue, len_in_queue,'ro')\n",
        "plt.xlabel('time')\n",
        "plt.ylabel('trucks in queue')\n",
        "plt.show()"
      ],
      "metadata": {
        "colab": {
          "base_uri": "https://localhost:8080/",
          "height": 458
        },
        "id": "zFTG7UrF8goL",
        "outputId": "90b1a9be-e5f6-4bd7-fcbc-2d25a5d7a81a"
      },
      "execution_count": null,
      "outputs": [
        {
          "output_type": "display_data",
          "data": {
            "text/plain": [
              "<Figure size 640x480 with 1 Axes>"
            ],
            "image/png": "[encoded data removed]"
          },
          "metadata": {}
        }
      ]
    },
    {
      "cell_type": "markdown",
      "source": [
        "## Conclusión"
      ],
      "metadata": {
        "id": "eYfDQLVx1YyT"
      }
    },
    {
      "cell_type": "markdown",
      "source": [
        "Podemos observar en los gráficos que si bien la media del tiempo de descarga bajó de 30 a 25 minutos, no bajó lo suficiente como para que eliminar una dársena no tenga tanto impacto en la cola de espera de camiones.\n",
        "\n",
        "En el primer escenario la cola de espera tiene como máximo 5 camiones, estando en su mayoría del tiempo vacía (es decir, el tiempo de espera para pasar a descarga es nulo). En el segundo escenario podemos notar cómo crecen tanto el tiempo medio de camiones en la cola como la cantidad de los mismos en ella. Si bien el enunciado propone cerrar una dársena siempre que la media de camiones esperando para descargar no sea superior a 3, lo cual está sucediendo en este caso (tenemos una media de 2 aproximadamente), consideramos que no es una buena opción hacer esta modificación ya que impacta significativamente en el tiempo que están en el sistema los camiones. Sería una opción viable si se disminuyera aún algunos minutos más la media del tiempo de descarga."
      ],
      "metadata": {
        "id": "ixApUnvz9EMf"
      }
    },
    {
      "cell_type": "markdown",
      "metadata": {
        "id": "KeSniMkqgUZs"
      },
      "source": [
        "# Ejercicio 4\n"
      ]
    },
    {
      "cell_type": "markdown",
      "metadata": {
        "id": "vtomenqOgW2C"
      },
      "source": [
        "Una entidad financiera está analizando cambiar uno de sus cajeros automáticos por uno con la funcionalidad de reciclador de billetes (si un cliente realiza un depósito de efectivo, ese efectivo estará disponible para que lo\n",
        "pueda retirar otro cliente). El cajero automático actual, que se quiere reemplazar, es de tipo estándar. No recicla los billetes, sino que\n",
        "posee dos compartimentos, uno con dinero para entregar y otro donde guarda el dinero que se deposita.\n",
        "\n",
        "Esto presenta los siguientes problemas:\n",
        "\n",
        "- Si no tiene más efectivo para entregar en el compartimento de retiro de dinero, no entrega efectivo\n",
        "aunque tenga en el compartimento de depósitos.\n",
        "- Si el compartimento que recibe los depósitos se completa, no puede recibir más.\n",
        "\n",
        "La entidad conoce que con el cajero actual el 20% de los clientes se retiraba sin poder extraer dinero, y sólo acepta cambiarlo si este porcentaje disminuye.\n",
        "Por simplicidad suponer que el cajero sólo expende billetes de $100, tiene una capacidad máxima de 2000 billetes, y comienza el día con su carga completa.\n",
        "\n",
        "Si un cliente quiere extraer dinero y el cajero no cuenta con la suma suficiente, se va del mismo sin retirar nada.\n",
        "\n",
        "Algo similar ocurre cuando un cliente desea depositar efectivo y la capacidad máxima de billetes en el cajero fue alcanzada, retirándose sin poder depositar.\n",
        "\n",
        "En el relevamiento que realizó la entidad diferenció a sus clientes en dos grupos:\n",
        "\n",
        "- Grupo 1: Sólo retiran efectivo, y corresponden al 75% de los clientes que arriban. El tiempo que utilizan el cajero se puede modelar con una distribución exponencial de media 90 segundos. Cada cliente de este grupo, extrae una cantidad de billetes que sigue una distribución uniforme\n",
        "[3,50].\n",
        "- Grupo 2: Sólo realizan depósitos, son el 25% de los clientes totales.\n",
        "Utilizando el cajero un tiempo que siguen una distribución exponencial de media 5 minutos. Cada cliente de este grupo, deposita una cantidad de billetes que se puede modelar utilizando una distribución uniforme [10,110].\n",
        "\n",
        "La frecuencia de arribos de clientes es de 1 cliente cada 10 minutos con distribución exponencial.\n",
        "Se pide:\n",
        "- a. Simular 1000 días completos de 24 hrs.\n",
        "- b. Para un día en particular graficar la cantidad de billetes en el cajero luego de cada transacción.\n",
        "- c. Calcular el tiempo medio que los clientes demoraron en el sistema (espera + utilización del cajero)\n",
        "- d. ¿Recomienda a la entidad que implemente el cambio de cajero?\n",
        "El ejercicio se puede resolver utilizando Simpy o programación tradicional (a elección del grupo)"
      ]
    },
    {
      "cell_type": "code",
      "execution_count": null,
      "metadata": {
        "id": "dYVeHYvHgx3V"
      },
      "outputs": [],
      "source": [
        "import simpy\n",
        "from scipy.stats import expon\n",
        "import random"
      ]
    },
    {
      "cell_type": "code",
      "source": [
        "class Cajero(simpy.Resource):\n",
        "\n",
        "  def __init__(self, env):\n",
        "    super().__init__(env, capacity=1)\n",
        "    self.reiniciar_dinero()\n",
        "\n",
        "  def reiniciar_dinero(self):\n",
        "    self.plata = 2000"
      ],
      "metadata": {
        "id": "QeProzoRiUfy"
      },
      "execution_count": null,
      "outputs": []
    },
    {
      "cell_type": "code",
      "source": [
        "def arribo_cliente_1(env, cajero):\n",
        "  global cantidad_de_gente_enojada\n",
        "  global valores_en_el_tiempo\n",
        "  global tiempos_de_espera\n",
        "\n",
        "  tiempo_de_arribo = env.now\n",
        "  with cajero.request() as caj:\n",
        "    yield caj\n",
        "\n",
        "    tiempo_en_cajero = expon.rvs(scale = 90, size = 1)\n",
        "    yield env.timeout(tiempo_en_cajero)\n",
        "\n",
        "    cantidad_de_billetes = random.randint(3, 50)\n",
        "    if (cajero.plata > cantidad_de_billetes):\n",
        "      cajero.plata -= cantidad_de_billetes\n",
        "      valores_en_el_tiempo.append(cajero.plata)\n",
        "      tiempos_de_espera.append(env.now - tiempo_de_arribo)\n",
        "    else:\n",
        "      cantidad_de_gente_enojada += 1\n",
        "\n",
        "def arribo_cliente_2(env, cajero):\n",
        "  global cantidad_de_gente_enojada\n",
        "  global valores_en_el_tiempo\n",
        "  global tiempos_de_espera\n",
        "\n",
        "  tiempo_de_arribo = env.now\n",
        "  with cajero.request() as caj:\n",
        "    yield caj\n",
        "\n",
        "    tiempo_en_cajero = expon.rvs(scale = 300, size = 1)\n",
        "    yield env.timeout(tiempo_en_cajero)\n",
        "\n",
        "    cantidad_de_billetes = random.randint(10, 110)\n",
        "    if ((cajero.plata + cantidad_de_billetes) < 2000):\n",
        "      cajero.plata += cantidad_de_billetes\n",
        "      valores_en_el_tiempo.append(cajero.plata)\n",
        "      tiempos_de_espera.append(env.now - tiempo_de_arribo)\n",
        "    else:\n",
        "      cantidad_de_gente_enojada += 1\n",
        "\n",
        "def source(env, cajero):\n",
        "  global cantidad_de_gente\n",
        "  while True:\n",
        "    proximo_cliente = expon.rvs(scale = 600, size = 1)\n",
        "    yield env.timeout(proximo_cliente)\n",
        "    cantidad_de_gente += 1\n",
        "    es_cliente_2 = (random.randint(1, 4)) == 1\n",
        "    if es_cliente_2:\n",
        "      env.process(arribo_cliente_2(env, cajero))\n",
        "    else:\n",
        "      env.process(arribo_cliente_1(env, cajero))\n"
      ],
      "metadata": {
        "id": "MzFvG27RVYUe"
      },
      "execution_count": null,
      "outputs": []
    },
    {
      "cell_type": "markdown",
      "source": [
        "A)"
      ],
      "metadata": {
        "id": "fdhlpQBjovW1"
      }
    },
    {
      "cell_type": "code",
      "source": [
        "cantidad_de_gente_enojada = 0\n",
        "cantidad_de_gente = 0\n",
        "tiempos_de_espera = []\n",
        "env = simpy.Environment()\n",
        "cajero = Cajero(env)\n",
        "env.process(source(env, cajero))\n",
        "\n",
        "seconds_in_a_day = 86400\n",
        "seconds = seconds_in_a_day\n",
        "for _ in range(1000):\n",
        "  env.run(until=seconds)\n",
        "  seconds += seconds_in_a_day\n",
        "  cajero.reiniciar_dinero()\n",
        "\n",
        "print(\"Gente: \", cantidad_de_gente)\n",
        "print(\"Gente enojada: \", cantidad_de_gente_enojada)\n",
        "print(\"Porcentaje: \", cantidad_de_gente_enojada / cantidad_de_gente)"
      ],
      "metadata": {
        "colab": {
          "base_uri": "https://localhost:8080/"
        },
        "id": "hBaUCmdYVOLh",
        "outputId": "5081bb88-c7ca-4e35-cc43-62a644d6ec48"
      },
      "execution_count": null,
      "outputs": [
        {
          "output_type": "stream",
          "name": "stdout",
          "text": [
            "Gente:  144045\n",
            "Gente enojada:  2628\n",
            "Porcentaje:  0.01824429865666979\n"
          ]
        }
      ]
    },
    {
      "cell_type": "markdown",
      "source": [
        "B)"
      ],
      "metadata": {
        "id": "BIxD7PpMotoL"
      }
    },
    {
      "cell_type": "code",
      "source": [
        "cantidad_de_gente_enojada = 0\n",
        "cantidad_de_gente = 0\n",
        "env = simpy.Environment()\n",
        "cajero = Cajero(env)\n",
        "env.process(source(env, cajero))\n",
        "valores_en_el_tiempo = [2000]\n",
        "\n",
        "import matplotlib.pyplot as plt\n",
        "\n",
        "env.run(until=86400)\n",
        "\n",
        "plt.plot(valores_en_el_tiempo)"
      ],
      "metadata": {
        "colab": {
          "base_uri": "https://localhost:8080/",
          "height": 451
        },
        "id": "MseG8vfnosG3",
        "outputId": "4d6d5e9e-ee62-4cf4-f539-b312903921be"
      },
      "execution_count": null,
      "outputs": [
        {
          "output_type": "execute_result",
          "data": {
            "text/plain": [
              "[<matplotlib.lines.Line2D at 0x7f067ecd8df0>]"
            ]
          },
          "metadata": {},
          "execution_count": 60
        },
        {
          "output_type": "display_data",
          "data": {
            "text/plain": [
              "<Figure size 640x480 with 1 Axes>"
            ],
            "image/png": "[encoded data removed]"
          },
          "metadata": {}
        }
      ]
    },
    {
      "cell_type": "markdown",
      "source": [
        "C)"
      ],
      "metadata": {
        "id": "LtBusuqmqONp"
      }
    },
    {
      "cell_type": "code",
      "source": [
        "print(\"tiempo promedio de espera: %f segundos\" % (sum(tiempos_de_espera) / len(tiempos_de_espera)))"
      ],
      "metadata": {
        "colab": {
          "base_uri": "https://localhost:8080/"
        },
        "id": "Fo7LLVlSqQDS",
        "outputId": "04dc6076-ec86-4fb5-f3ed-efd6165b9f0e"
      },
      "execution_count": null,
      "outputs": [
        {
          "output_type": "stream",
          "name": "stdout",
          "text": [
            "tiempo promedio de espera: 201.578364 segundos\n"
          ]
        }
      ]
    },
    {
      "cell_type": "markdown",
      "source": [
        "D)\n",
        "\n",
        "Si se recomienda utilizar el nuevo cajero ya que pasaria a ser, aproximadamente, un 2% de la gente la que no pueda efectuar su transacción, en comparativa con el cajero anterior que tiene un 20%\n"
      ],
      "metadata": {
        "id": "jF1ZoDR6rlYM"
      }
    }
  ],
  "metadata": {
    "colab": {
      "collapsed_sections": [
        "rsDt2ggfVXuT"
      ],
      "provenance": []
    },
    "kernelspec": {
      "display_name": "Python 3",
      "name": "python3"
    },
    "language_info": {
      "name": "python"
    }
  },
  "nbformat": 4,
  "nbformat_minor": 0
}